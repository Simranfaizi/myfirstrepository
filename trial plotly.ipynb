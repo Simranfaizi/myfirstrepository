{
 "cells": [
  {
   "cell_type": "markdown",
   "id": "b890a3cc",
   "metadata": {},
   "source": [
    "# Phase 1-EDA"
   ]
  },
  {
   "cell_type": "code",
   "execution_count": 4,
   "id": "9c94af9d",
   "metadata": {},
   "outputs": [
    {
     "data": {
      "text/html": [
       "        <script type=\"text/javascript\">\n",
       "        window.PlotlyConfig = {MathJaxConfig: 'local'};\n",
       "        if (window.MathJax) {MathJax.Hub.Config({SVG: {font: \"STIX-Web\"}});}\n",
       "        if (typeof require !== 'undefined') {\n",
       "        require.undef(\"plotly\");\n",
       "        requirejs.config({\n",
       "            paths: {\n",
       "                'plotly': ['https://cdn.plot.ly/plotly-2.9.0.min']\n",
       "            }\n",
       "        });\n",
       "        require(['plotly'], function(Plotly) {\n",
       "            window._Plotly = Plotly;\n",
       "        });\n",
       "        }\n",
       "        </script>\n",
       "        "
      ]
     },
     "metadata": {},
     "output_type": "display_data"
    }
   ],
   "source": [
    "import pandas as pd\n",
    "import numpy as np\n",
    "import matplotlib.pyplot as plt\n",
    "import seaborn as sns\n",
    "import plotly.express as px\n",
    "import plotly.io as pio\n",
    "pio.renderers.default = 'svg'\n",
    "import plotly\n",
    "import plotly.graph_objects as go\n",
    "import plotly.offline as pyo\n",
    "\n",
    "import plotly.offline as pyo\n",
    "pyo.init_notebook_mode(connected=True)\n",
    "\n",
    "import warnings\n",
    "warnings.filterwarnings('ignore')"
   ]
  },
  {
   "cell_type": "code",
   "execution_count": 5,
   "id": "bc665d0e",
   "metadata": {},
   "outputs": [],
   "source": [
    "df=pd.read_csv('datapopulation.csv')"
   ]
  },
  {
   "cell_type": "code",
   "execution_count": 6,
   "id": "ebd5e80b",
   "metadata": {},
   "outputs": [
    {
     "data": {
      "application/vnd.plotly.v1+json": {
       "config": {
        "plotlyServerURL": "https://plot.ly"
       },
       "data": [
        {
         "hovertemplate": "State/UT=A& N ISLANDS<br>Lit_rate=%{x}<br>RAPE=%{y}<extra></extra>",
         "legendgroup": "A& N ISLANDS",
         "marker": {
          "color": "#1F77B4",
          "symbol": "circle"
         },
         "mode": "markers",
         "name": "A& N ISLANDS",
         "orientation": "v",
         "showlegend": true,
         "type": "scatter",
         "x": [
          81.3,
          81.7,
          82.1,
          82.5,
          82.9,
          83.3,
          83.7,
          84.1,
          84.5,
          84.9,
          86.63,
          88.36
         ],
         "xaxis": "x",
         "y": [
          3,
          2,
          2,
          10,
          4,
          6,
          3,
          12,
          18,
          24,
          13,
          12
         ],
         "yaxis": "y"
        },
        {
         "alignmentgroup": "True",
         "hovertemplate": "State/UT=A& N ISLANDS<br>Lit_rate=%{x}<extra></extra>",
         "legendgroup": "A& N ISLANDS",
         "marker": {
          "color": "#1F77B4",
          "symbol": "circle"
         },
         "name": "A& N ISLANDS",
         "notched": true,
         "offsetgroup": "A& N ISLANDS",
         "showlegend": false,
         "type": "box",
         "x": [
          81.3,
          81.7,
          82.1,
          82.5,
          82.9,
          83.3,
          83.7,
          84.1,
          84.5,
          84.9,
          86.63,
          88.36
         ],
         "xaxis": "x3",
         "yaxis": "y3"
        },
        {
         "alignmentgroup": "True",
         "hovertemplate": "State/UT=A& N ISLANDS<br>RAPE=%{y}<extra></extra>",
         "legendgroup": "A& N ISLANDS",
         "marker": {
          "color": "#1F77B4",
          "symbol": "circle"
         },
         "name": "A& N ISLANDS",
         "offsetgroup": "A& N ISLANDS",
         "scalegroup": "y",
         "showlegend": false,
         "type": "violin",
         "xaxis": "x2",
         "y": [
          3,
          2,
          2,
          10,
          4,
          6,
          3,
          12,
          18,
          24,
          13,
          12
         ],
         "yaxis": "y2"
        },
        {
         "hovertemplate": "State/UT=ANDHRA PRADESH<br>Lit_rate=%{x}<br>RAPE=%{y}<extra></extra>",
         "legendgroup": "ANDHRA PRADESH",
         "marker": {
          "color": "#FF7F0E",
          "symbol": "circle"
         },
         "mode": "markers",
         "name": "ANDHRA PRADESH",
         "orientation": "v",
         "showlegend": true,
         "type": "scatter",
         "x": [
          60.47,
          61.07,
          61.6,
          62.2,
          62.8,
          63.4,
          64.03,
          64.6,
          65.2,
          65.8,
          67.02,
          67.6
         ],
         "xaxis": "x",
         "y": [
          871,
          1002,
          946,
          1016,
          935,
          1049,
          1070,
          1257,
          1188,
          1362,
          1442,
          1341
         ],
         "yaxis": "y"
        },
        {
         "alignmentgroup": "True",
         "hovertemplate": "State/UT=ANDHRA PRADESH<br>Lit_rate=%{x}<extra></extra>",
         "legendgroup": "ANDHRA PRADESH",
         "marker": {
          "color": "#FF7F0E",
          "symbol": "circle"
         },
         "name": "ANDHRA PRADESH",
         "notched": true,
         "offsetgroup": "ANDHRA PRADESH",
         "showlegend": false,
         "type": "box",
         "x": [
          60.47,
          61.07,
          61.6,
          62.2,
          62.8,
          63.4,
          64.03,
          64.6,
          65.2,
          65.8,
          67.02,
          67.6
         ],
         "xaxis": "x3",
         "yaxis": "y3"
        },
        {
         "alignmentgroup": "True",
         "hovertemplate": "State/UT=ANDHRA PRADESH<br>RAPE=%{y}<extra></extra>",
         "legendgroup": "ANDHRA PRADESH",
         "marker": {
          "color": "#FF7F0E",
          "symbol": "circle"
         },
         "name": "ANDHRA PRADESH",
         "offsetgroup": "ANDHRA PRADESH",
         "scalegroup": "y",
         "showlegend": false,
         "type": "violin",
         "xaxis": "x2",
         "y": [
          871,
          1002,
          946,
          1016,
          935,
          1049,
          1070,
          1257,
          1188,
          1362,
          1442,
          1341
         ],
         "yaxis": "y2"
        },
        {
         "hovertemplate": "State/UT=ARUNACHAL PRADESH<br>Lit_rate=%{x}<br>RAPE=%{y}<extra></extra>",
         "legendgroup": "ARUNACHAL PRADESH",
         "marker": {
          "color": "#2CA02C",
          "symbol": "circle"
         },
         "mode": "markers",
         "name": "ARUNACHAL PRADESH",
         "orientation": "v",
         "showlegend": true,
         "type": "scatter",
         "x": [
          54.34,
          55.3,
          56.3,
          57.3,
          58.3,
          59.3,
          60.3,
          61.3,
          62.3,
          63.3,
          65.38,
          66.3
         ],
         "xaxis": "x",
         "y": [
          33,
          38,
          31,
          42,
          35,
          37,
          48,
          42,
          59,
          47,
          42,
          46
         ],
         "yaxis": "y"
        },
        {
         "alignmentgroup": "True",
         "hovertemplate": "State/UT=ARUNACHAL PRADESH<br>Lit_rate=%{x}<extra></extra>",
         "legendgroup": "ARUNACHAL PRADESH",
         "marker": {
          "color": "#2CA02C",
          "symbol": "circle"
         },
         "name": "ARUNACHAL PRADESH",
         "notched": true,
         "offsetgroup": "ARUNACHAL PRADESH",
         "showlegend": false,
         "type": "box",
         "x": [
          54.34,
          55.3,
          56.3,
          57.3,
          58.3,
          59.3,
          60.3,
          61.3,
          62.3,
          63.3,
          65.38,
          66.3
         ],
         "xaxis": "x3",
         "yaxis": "y3"
        },
        {
         "alignmentgroup": "True",
         "hovertemplate": "State/UT=ARUNACHAL PRADESH<br>RAPE=%{y}<extra></extra>",
         "legendgroup": "ARUNACHAL PRADESH",
         "marker": {
          "color": "#2CA02C",
          "symbol": "circle"
         },
         "name": "ARUNACHAL PRADESH",
         "offsetgroup": "ARUNACHAL PRADESH",
         "scalegroup": "y",
         "showlegend": false,
         "type": "violin",
         "xaxis": "x2",
         "y": [
          33,
          38,
          31,
          42,
          35,
          37,
          48,
          42,
          59,
          47,
          42,
          46
         ],
         "yaxis": "y2"
        },
        {
         "hovertemplate": "State/UT=ASSAM<br>Lit_rate=%{x}<br>RAPE=%{y}<extra></extra>",
         "legendgroup": "ASSAM",
         "marker": {
          "color": "#D62728",
          "symbol": "circle"
         },
         "mode": "markers",
         "name": "ASSAM",
         "orientation": "v",
         "showlegend": true,
         "type": "scatter",
         "x": [
          63.25,
          64,
          64.8,
          65.6,
          66.4,
          67.2,
          68,
          68.8,
          69.6,
          70.4,
          72.19,
          72.59
         ],
         "xaxis": "x",
         "y": [
          817,
          970,
          1095,
          1171,
          1238,
          1244,
          1437,
          1438,
          1631,
          1721,
          1700,
          1716
         ],
         "yaxis": "y"
        },
        {
         "alignmentgroup": "True",
         "hovertemplate": "State/UT=ASSAM<br>Lit_rate=%{x}<extra></extra>",
         "legendgroup": "ASSAM",
         "marker": {
          "color": "#D62728",
          "symbol": "circle"
         },
         "name": "ASSAM",
         "notched": true,
         "offsetgroup": "ASSAM",
         "showlegend": false,
         "type": "box",
         "x": [
          63.25,
          64,
          64.8,
          65.6,
          66.4,
          67.2,
          68,
          68.8,
          69.6,
          70.4,
          72.19,
          72.59
         ],
         "xaxis": "x3",
         "yaxis": "y3"
        },
        {
         "alignmentgroup": "True",
         "hovertemplate": "State/UT=ASSAM<br>RAPE=%{y}<extra></extra>",
         "legendgroup": "ASSAM",
         "marker": {
          "color": "#D62728",
          "symbol": "circle"
         },
         "name": "ASSAM",
         "offsetgroup": "ASSAM",
         "scalegroup": "y",
         "showlegend": false,
         "type": "violin",
         "xaxis": "x2",
         "y": [
          817,
          970,
          1095,
          1171,
          1238,
          1244,
          1437,
          1438,
          1631,
          1721,
          1700,
          1716
         ],
         "yaxis": "y2"
        },
        {
         "hovertemplate": "State/UT=BIHAR<br>Lit_rate=%{x}<br>RAPE=%{y}<extra></extra>",
         "legendgroup": "BIHAR",
         "marker": {
          "color": "#9467BD",
          "symbol": "circle"
         },
         "mode": "markers",
         "name": "BIHAR",
         "orientation": "v",
         "showlegend": true,
         "type": "scatter",
         "x": [
          47,
          48.3,
          49.6,
          50.9,
          52.3,
          53.7,
          55.2,
          56.7,
          58.2,
          59.8,
          61.8,
          62.4
         ],
         "xaxis": "x",
         "y": [
          888,
          1040,
          985,
          1390,
          1147,
          1232,
          1555,
          1302,
          929,
          795,
          934,
          927
         ],
         "yaxis": "y"
        },
        {
         "alignmentgroup": "True",
         "hovertemplate": "State/UT=BIHAR<br>Lit_rate=%{x}<extra></extra>",
         "legendgroup": "BIHAR",
         "marker": {
          "color": "#9467BD",
          "symbol": "circle"
         },
         "name": "BIHAR",
         "notched": true,
         "offsetgroup": "BIHAR",
         "showlegend": false,
         "type": "box",
         "x": [
          47,
          48.3,
          49.6,
          50.9,
          52.3,
          53.7,
          55.2,
          56.7,
          58.2,
          59.8,
          61.8,
          62.4
         ],
         "xaxis": "x3",
         "yaxis": "y3"
        },
        {
         "alignmentgroup": "True",
         "hovertemplate": "State/UT=BIHAR<br>RAPE=%{y}<extra></extra>",
         "legendgroup": "BIHAR",
         "marker": {
          "color": "#9467BD",
          "symbol": "circle"
         },
         "name": "BIHAR",
         "offsetgroup": "BIHAR",
         "scalegroup": "y",
         "showlegend": false,
         "type": "violin",
         "xaxis": "x2",
         "y": [
          888,
          1040,
          985,
          1390,
          1147,
          1232,
          1555,
          1302,
          929,
          795,
          934,
          927
         ],
         "yaxis": "y2"
        },
        {
         "hovertemplate": "State/UT=CHANDIGARH<br>Lit_rate=%{x}<br>RAPE=%{y}<extra></extra>",
         "legendgroup": "CHANDIGARH",
         "marker": {
          "color": "#8C564B",
          "symbol": "circle"
         },
         "mode": "markers",
         "name": "CHANDIGARH",
         "orientation": "v",
         "showlegend": true,
         "type": "scatter",
         "x": [
          81.94,
          82.3,
          82.7,
          83.1,
          83.5,
          83.9,
          84.3,
          84.7,
          84.1,
          84.5,
          86.05,
          86.9
         ],
         "xaxis": "x",
         "y": [
          18,
          18,
          18,
          19,
          33,
          19,
          22,
          20,
          29,
          31,
          27,
          27
         ],
         "yaxis": "y"
        },
        {
         "alignmentgroup": "True",
         "hovertemplate": "State/UT=CHANDIGARH<br>Lit_rate=%{x}<extra></extra>",
         "legendgroup": "CHANDIGARH",
         "marker": {
          "color": "#8C564B",
          "symbol": "circle"
         },
         "name": "CHANDIGARH",
         "notched": true,
         "offsetgroup": "CHANDIGARH",
         "showlegend": false,
         "type": "box",
         "x": [
          81.94,
          82.3,
          82.7,
          83.1,
          83.5,
          83.9,
          84.3,
          84.7,
          84.1,
          84.5,
          86.05,
          86.9
         ],
         "xaxis": "x3",
         "yaxis": "y3"
        },
        {
         "alignmentgroup": "True",
         "hovertemplate": "State/UT=CHANDIGARH<br>RAPE=%{y}<extra></extra>",
         "legendgroup": "CHANDIGARH",
         "marker": {
          "color": "#8C564B",
          "symbol": "circle"
         },
         "name": "CHANDIGARH",
         "offsetgroup": "CHANDIGARH",
         "scalegroup": "y",
         "showlegend": false,
         "type": "violin",
         "xaxis": "x2",
         "y": [
          18,
          18,
          18,
          19,
          33,
          19,
          22,
          20,
          29,
          31,
          27,
          27
         ],
         "yaxis": "y2"
        },
        {
         "hovertemplate": "State/UT=CHHATTISGARH<br>Lit_rate=%{x}<br>RAPE=%{y}<extra></extra>",
         "legendgroup": "CHHATTISGARH",
         "marker": {
          "color": "#E377C2",
          "symbol": "circle"
         },
         "mode": "markers",
         "name": "CHHATTISGARH",
         "orientation": "v",
         "showlegend": true,
         "type": "scatter",
         "x": [
          64.66,
          65.19,
          65.72,
          66.25,
          65.78,
          66.31,
          66.85,
          67.39,
          67.94,
          68.49,
          70.28,
          71.5
         ],
         "xaxis": "x",
         "y": [
          959,
          992,
          898,
          969,
          990,
          995,
          982,
          978,
          976,
          1012,
          1053,
          1034
         ],
         "yaxis": "y"
        },
        {
         "alignmentgroup": "True",
         "hovertemplate": "State/UT=CHHATTISGARH<br>Lit_rate=%{x}<extra></extra>",
         "legendgroup": "CHHATTISGARH",
         "marker": {
          "color": "#E377C2",
          "symbol": "circle"
         },
         "name": "CHHATTISGARH",
         "notched": true,
         "offsetgroup": "CHHATTISGARH",
         "showlegend": false,
         "type": "box",
         "x": [
          64.66,
          65.19,
          65.72,
          66.25,
          65.78,
          66.31,
          66.85,
          67.39,
          67.94,
          68.49,
          70.28,
          71.5
         ],
         "xaxis": "x3",
         "yaxis": "y3"
        },
        {
         "alignmentgroup": "True",
         "hovertemplate": "State/UT=CHHATTISGARH<br>RAPE=%{y}<extra></extra>",
         "legendgroup": "CHHATTISGARH",
         "marker": {
          "color": "#E377C2",
          "symbol": "circle"
         },
         "name": "CHHATTISGARH",
         "offsetgroup": "CHHATTISGARH",
         "scalegroup": "y",
         "showlegend": false,
         "type": "violin",
         "xaxis": "x2",
         "y": [
          959,
          992,
          898,
          969,
          990,
          995,
          982,
          978,
          976,
          1012,
          1053,
          1034
         ],
         "yaxis": "y2"
        },
        {
         "hovertemplate": "State/UT=D & N HAVELI<br>Lit_rate=%{x}<br>RAPE=%{y}<extra></extra>",
         "legendgroup": "D & N HAVELI",
         "marker": {
          "color": "#7F7F7F",
          "symbol": "circle"
         },
         "mode": "markers",
         "name": "D & N HAVELI",
         "orientation": "v",
         "showlegend": true,
         "type": "scatter",
         "x": [
          57.63,
          59.3,
          61.01,
          62.77,
          64.59,
          66.46,
          68.39,
          70.37,
          72.41,
          74.5,
          76.24,
          78.39
         ],
         "xaxis": "x",
         "y": [
          6,
          4,
          1,
          7,
          5,
          6,
          7,
          6,
          4,
          3,
          4,
          3
         ],
         "yaxis": "y"
        },
        {
         "alignmentgroup": "True",
         "hovertemplate": "State/UT=D & N HAVELI<br>Lit_rate=%{x}<extra></extra>",
         "legendgroup": "D & N HAVELI",
         "marker": {
          "color": "#7F7F7F",
          "symbol": "circle"
         },
         "name": "D & N HAVELI",
         "notched": true,
         "offsetgroup": "D & N HAVELI",
         "showlegend": false,
         "type": "box",
         "x": [
          57.63,
          59.3,
          61.01,
          62.77,
          64.59,
          66.46,
          68.39,
          70.37,
          72.41,
          74.5,
          76.24,
          78.39
         ],
         "xaxis": "x3",
         "yaxis": "y3"
        },
        {
         "alignmentgroup": "True",
         "hovertemplate": "State/UT=D & N HAVELI<br>RAPE=%{y}<extra></extra>",
         "legendgroup": "D & N HAVELI",
         "marker": {
          "color": "#7F7F7F",
          "symbol": "circle"
         },
         "name": "D & N HAVELI",
         "offsetgroup": "D & N HAVELI",
         "scalegroup": "y",
         "showlegend": false,
         "type": "violin",
         "xaxis": "x2",
         "y": [
          6,
          4,
          1,
          7,
          5,
          6,
          7,
          6,
          4,
          3,
          4,
          3
         ],
         "yaxis": "y2"
        },
        {
         "hovertemplate": "State/UT=DAMAN & DIU<br>Lit_rate=%{x}<br>RAPE=%{y}<extra></extra>",
         "legendgroup": "DAMAN & DIU",
         "marker": {
          "color": "#BCBD22",
          "symbol": "circle"
         },
         "mode": "markers",
         "name": "DAMAN & DIU",
         "orientation": "v",
         "showlegend": true,
         "type": "scatter",
         "x": [
          78.18,
          79.03,
          79.89,
          80.76,
          81.64,
          82.53,
          83.43,
          84.34,
          85.26,
          86.19,
          87.1,
          87.18
         ],
         "xaxis": "x",
         "y": [
          6,
          4,
          1,
          7,
          5,
          6,
          7,
          6,
          4,
          3,
          4,
          5
         ],
         "yaxis": "y"
        },
        {
         "alignmentgroup": "True",
         "hovertemplate": "State/UT=DAMAN & DIU<br>Lit_rate=%{x}<extra></extra>",
         "legendgroup": "DAMAN & DIU",
         "marker": {
          "color": "#BCBD22",
          "symbol": "circle"
         },
         "name": "DAMAN & DIU",
         "notched": true,
         "offsetgroup": "DAMAN & DIU",
         "showlegend": false,
         "type": "box",
         "x": [
          78.18,
          79.03,
          79.89,
          80.76,
          81.64,
          82.53,
          83.43,
          84.34,
          85.26,
          86.19,
          87.1,
          87.18
         ],
         "xaxis": "x3",
         "yaxis": "y3"
        },
        {
         "alignmentgroup": "True",
         "hovertemplate": "State/UT=DAMAN & DIU<br>RAPE=%{y}<extra></extra>",
         "legendgroup": "DAMAN & DIU",
         "marker": {
          "color": "#BCBD22",
          "symbol": "circle"
         },
         "name": "DAMAN & DIU",
         "offsetgroup": "DAMAN & DIU",
         "scalegroup": "y",
         "showlegend": false,
         "type": "violin",
         "xaxis": "x2",
         "y": [
          6,
          4,
          1,
          7,
          5,
          6,
          7,
          6,
          4,
          3,
          4,
          5
         ],
         "yaxis": "y2"
        },
        {
         "hovertemplate": "State/UT=DELHI<br>Lit_rate=%{x}<br>RAPE=%{y}<extra></extra>",
         "legendgroup": "DELHI",
         "marker": {
          "color": "#17BECF",
          "symbol": "circle"
         },
         "mode": "markers",
         "name": "DELHI",
         "orientation": "v",
         "showlegend": true,
         "type": "scatter",
         "x": [
          81.67,
          82.11,
          82.56,
          83.01,
          83.47,
          83.92,
          84.38,
          84.84,
          85.3,
          85.76,
          86.21,
          86.81
         ],
         "xaxis": "x",
         "y": [
          381,
          403,
          490,
          551,
          658,
          623,
          598,
          466,
          469,
          507,
          572,
          706
         ],
         "yaxis": "y"
        },
        {
         "alignmentgroup": "True",
         "hovertemplate": "State/UT=DELHI<br>Lit_rate=%{x}<extra></extra>",
         "legendgroup": "DELHI",
         "marker": {
          "color": "#17BECF",
          "symbol": "circle"
         },
         "name": "DELHI",
         "notched": true,
         "offsetgroup": "DELHI",
         "showlegend": false,
         "type": "box",
         "x": [
          81.67,
          82.11,
          82.56,
          83.01,
          83.47,
          83.92,
          84.38,
          84.84,
          85.3,
          85.76,
          86.21,
          86.81
         ],
         "xaxis": "x3",
         "yaxis": "y3"
        },
        {
         "alignmentgroup": "True",
         "hovertemplate": "State/UT=DELHI<br>RAPE=%{y}<extra></extra>",
         "legendgroup": "DELHI",
         "marker": {
          "color": "#17BECF",
          "symbol": "circle"
         },
         "name": "DELHI",
         "offsetgroup": "DELHI",
         "scalegroup": "y",
         "showlegend": false,
         "type": "violin",
         "xaxis": "x2",
         "y": [
          381,
          403,
          490,
          551,
          658,
          623,
          598,
          466,
          469,
          507,
          572,
          706
         ],
         "yaxis": "y2"
        },
        {
         "hovertemplate": "State/UT=GOA<br>Lit_rate=%{x}<br>RAPE=%{y}<extra></extra>",
         "legendgroup": "GOA",
         "marker": {
          "color": "#1F77B4",
          "symbol": "circle"
         },
         "mode": "markers",
         "name": "GOA",
         "orientation": "v",
         "showlegend": true,
         "type": "scatter",
         "x": [
          82.01,
          82.42,
          82.83,
          83.24,
          83.65,
          84.06,
          84.48,
          84.9,
          85.32,
          85.74,
          86.21,
          86.65
         ],
         "xaxis": "x",
         "y": [
          12,
          12,
          31,
          37,
          20,
          21,
          20,
          30,
          47,
          36,
          29,
          55
         ],
         "yaxis": "y"
        },
        {
         "alignmentgroup": "True",
         "hovertemplate": "State/UT=GOA<br>Lit_rate=%{x}<extra></extra>",
         "legendgroup": "GOA",
         "marker": {
          "color": "#1F77B4",
          "symbol": "circle"
         },
         "name": "GOA",
         "notched": true,
         "offsetgroup": "GOA",
         "showlegend": false,
         "type": "box",
         "x": [
          82.01,
          82.42,
          82.83,
          83.24,
          83.65,
          84.06,
          84.48,
          84.9,
          85.32,
          85.74,
          86.21,
          86.65
         ],
         "xaxis": "x3",
         "yaxis": "y3"
        },
        {
         "alignmentgroup": "True",
         "hovertemplate": "State/UT=GOA<br>RAPE=%{y}<extra></extra>",
         "legendgroup": "GOA",
         "marker": {
          "color": "#1F77B4",
          "symbol": "circle"
         },
         "name": "GOA",
         "offsetgroup": "GOA",
         "scalegroup": "y",
         "showlegend": false,
         "type": "violin",
         "xaxis": "x2",
         "y": [
          12,
          12,
          31,
          37,
          20,
          21,
          20,
          30,
          47,
          36,
          29,
          55
         ],
         "yaxis": "y2"
        },
        {
         "hovertemplate": "State/UT=GUJARAT<br>Lit_rate=%{x}<br>RAPE=%{y}<extra></extra>",
         "legendgroup": "GUJARAT",
         "marker": {
          "color": "#FF7F0E",
          "symbol": "circle"
         },
         "mode": "markers",
         "name": "GUJARAT",
         "orientation": "v",
         "showlegend": true,
         "type": "scatter",
         "x": [
          69.14,
          70.86,
          72.63,
          74.44,
          76.3,
          78.2,
          80.15,
          82.15,
          84.2,
          86.3,
          88.7,
          89.3
         ],
         "xaxis": "x",
         "y": [
          286,
          267,
          236,
          339,
          324,
          354,
          316,
          374,
          433,
          408,
          439,
          473
         ],
         "yaxis": "y"
        },
        {
         "alignmentgroup": "True",
         "hovertemplate": "State/UT=GUJARAT<br>Lit_rate=%{x}<extra></extra>",
         "legendgroup": "GUJARAT",
         "marker": {
          "color": "#FF7F0E",
          "symbol": "circle"
         },
         "name": "GUJARAT",
         "notched": true,
         "offsetgroup": "GUJARAT",
         "showlegend": false,
         "type": "box",
         "x": [
          69.14,
          70.86,
          72.63,
          74.44,
          76.3,
          78.2,
          80.15,
          82.15,
          84.2,
          86.3,
          88.7,
          89.3
         ],
         "xaxis": "x3",
         "yaxis": "y3"
        },
        {
         "alignmentgroup": "True",
         "hovertemplate": "State/UT=GUJARAT<br>RAPE=%{y}<extra></extra>",
         "legendgroup": "GUJARAT",
         "marker": {
          "color": "#FF7F0E",
          "symbol": "circle"
         },
         "name": "GUJARAT",
         "offsetgroup": "GUJARAT",
         "scalegroup": "y",
         "showlegend": false,
         "type": "violin",
         "xaxis": "x2",
         "y": [
          286,
          267,
          236,
          339,
          324,
          354,
          316,
          374,
          433,
          408,
          439,
          473
         ],
         "yaxis": "y2"
        },
        {
         "hovertemplate": "State/UT=HARYANA<br>Lit_rate=%{x}<br>RAPE=%{y}<extra></extra>",
         "legendgroup": "HARYANA",
         "marker": {
          "color": "#2CA02C",
          "symbol": "circle"
         },
         "mode": "markers",
         "name": "HARYANA",
         "orientation": "v",
         "showlegend": true,
         "type": "scatter",
         "x": [
          67.91,
          68.86,
          69.82,
          70.79,
          71.78,
          72.78,
          73.79,
          74.82,
          75.86,
          76.92,
          78.03,
          80.7
         ],
         "xaxis": "x",
         "y": [
          398,
          361,
          353,
          386,
          461,
          608,
          488,
          631,
          603,
          720,
          733,
          668
         ],
         "yaxis": "y"
        },
        {
         "alignmentgroup": "True",
         "hovertemplate": "State/UT=HARYANA<br>Lit_rate=%{x}<extra></extra>",
         "legendgroup": "HARYANA",
         "marker": {
          "color": "#2CA02C",
          "symbol": "circle"
         },
         "name": "HARYANA",
         "notched": true,
         "offsetgroup": "HARYANA",
         "showlegend": false,
         "type": "box",
         "x": [
          67.91,
          68.86,
          69.82,
          70.79,
          71.78,
          72.78,
          73.79,
          74.82,
          75.86,
          76.92,
          78.03,
          80.7
         ],
         "xaxis": "x3",
         "yaxis": "y3"
        },
        {
         "alignmentgroup": "True",
         "hovertemplate": "State/UT=HARYANA<br>RAPE=%{y}<extra></extra>",
         "legendgroup": "HARYANA",
         "marker": {
          "color": "#2CA02C",
          "symbol": "circle"
         },
         "name": "HARYANA",
         "offsetgroup": "HARYANA",
         "scalegroup": "y",
         "showlegend": false,
         "type": "violin",
         "xaxis": "x2",
         "y": [
          398,
          361,
          353,
          386,
          461,
          608,
          488,
          631,
          603,
          720,
          733,
          668
         ],
         "yaxis": "y2"
        },
        {
         "hovertemplate": "State/UT=HIMACHAL PRADESH<br>Lit_rate=%{x}<br>RAPE=%{y}<extra></extra>",
         "legendgroup": "HIMACHAL PRADESH",
         "marker": {
          "color": "#D62728",
          "symbol": "circle"
         },
         "mode": "markers",
         "name": "HIMACHAL PRADESH",
         "orientation": "v",
         "showlegend": true,
         "type": "scatter",
         "x": [
          76.48,
          76.38,
          76.28,
          76.18,
          76.08,
          75.98,
          75.88,
          75.78,
          75.68,
          75.58,
          75.55,
          75.48
         ],
         "xaxis": "x",
         "y": [
          124,
          137,
          126,
          153,
          141,
          113,
          159,
          157,
          183,
          160,
          168,
          183
         ],
         "yaxis": "y"
        },
        {
         "alignmentgroup": "True",
         "hovertemplate": "State/UT=HIMACHAL PRADESH<br>Lit_rate=%{x}<extra></extra>",
         "legendgroup": "HIMACHAL PRADESH",
         "marker": {
          "color": "#D62728",
          "symbol": "circle"
         },
         "name": "HIMACHAL PRADESH",
         "notched": true,
         "offsetgroup": "HIMACHAL PRADESH",
         "showlegend": false,
         "type": "box",
         "x": [
          76.48,
          76.38,
          76.28,
          76.18,
          76.08,
          75.98,
          75.88,
          75.78,
          75.68,
          75.58,
          75.55,
          75.48
         ],
         "xaxis": "x3",
         "yaxis": "y3"
        },
        {
         "alignmentgroup": "True",
         "hovertemplate": "State/UT=HIMACHAL PRADESH<br>RAPE=%{y}<extra></extra>",
         "legendgroup": "HIMACHAL PRADESH",
         "marker": {
          "color": "#D62728",
          "symbol": "circle"
         },
         "name": "HIMACHAL PRADESH",
         "offsetgroup": "HIMACHAL PRADESH",
         "scalegroup": "y",
         "showlegend": false,
         "type": "violin",
         "xaxis": "x2",
         "y": [
          124,
          137,
          126,
          153,
          141,
          113,
          159,
          157,
          183,
          160,
          168,
          183
         ],
         "yaxis": "y2"
        },
        {
         "hovertemplate": "State/UT=JAMMU & KASHMIR<br>Lit_rate=%{x}<br>RAPE=%{y}<extra></extra>",
         "legendgroup": "JAMMU & KASHMIR",
         "marker": {
          "color": "#9467BD",
          "symbol": "circle"
         },
         "mode": "markers",
         "name": "JAMMU & KASHMIR",
         "orientation": "v",
         "showlegend": true,
         "type": "scatter",
         "x": [
          55.52,
          57.74,
          60.04,
          62.44,
          64.93,
          67.52,
          70.2,
          73,
          75.92,
          78.95,
          82.8,
          83.5
         ],
         "xaxis": "x",
         "y": [
          169,
          192,
          211,
          218,
          201,
          250,
          288,
          219,
          237,
          245,
          277,
          303
         ],
         "yaxis": "y"
        },
        {
         "alignmentgroup": "True",
         "hovertemplate": "State/UT=JAMMU & KASHMIR<br>Lit_rate=%{x}<extra></extra>",
         "legendgroup": "JAMMU & KASHMIR",
         "marker": {
          "color": "#9467BD",
          "symbol": "circle"
         },
         "name": "JAMMU & KASHMIR",
         "notched": true,
         "offsetgroup": "JAMMU & KASHMIR",
         "showlegend": false,
         "type": "box",
         "x": [
          55.52,
          57.74,
          60.04,
          62.44,
          64.93,
          67.52,
          70.2,
          73,
          75.92,
          78.95,
          82.8,
          83.5
         ],
         "xaxis": "x3",
         "yaxis": "y3"
        },
        {
         "alignmentgroup": "True",
         "hovertemplate": "State/UT=JAMMU & KASHMIR<br>RAPE=%{y}<extra></extra>",
         "legendgroup": "JAMMU & KASHMIR",
         "marker": {
          "color": "#9467BD",
          "symbol": "circle"
         },
         "name": "JAMMU & KASHMIR",
         "offsetgroup": "JAMMU & KASHMIR",
         "scalegroup": "y",
         "showlegend": false,
         "type": "violin",
         "xaxis": "x2",
         "y": [
          169,
          192,
          211,
          218,
          201,
          250,
          288,
          219,
          237,
          245,
          277,
          303
         ],
         "yaxis": "y2"
        },
        {
         "hovertemplate": "State/UT=JHARKHAND<br>Lit_rate=%{x}<br>RAPE=%{y}<extra></extra>",
         "legendgroup": "JHARKHAND",
         "marker": {
          "color": "#8C564B",
          "symbol": "circle"
         },
         "mode": "markers",
         "name": "JHARKHAND",
         "orientation": "v",
         "showlegend": true,
         "type": "scatter",
         "x": [
          53.56,
          54.79,
          56.05,
          57.33,
          58.64,
          59.98,
          61.35,
          62.76,
          64.2,
          65.67,
          67.16,
          69.2
         ],
         "xaxis": "x",
         "y": [
          567,
          797,
          712,
          797,
          753,
          799,
          855,
          791,
          719,
          773,
          784,
          812
         ],
         "yaxis": "y"
        },
        {
         "alignmentgroup": "True",
         "hovertemplate": "State/UT=JHARKHAND<br>Lit_rate=%{x}<extra></extra>",
         "legendgroup": "JHARKHAND",
         "marker": {
          "color": "#8C564B",
          "symbol": "circle"
         },
         "name": "JHARKHAND",
         "notched": true,
         "offsetgroup": "JHARKHAND",
         "showlegend": false,
         "type": "box",
         "x": [
          53.56,
          54.79,
          56.05,
          57.33,
          58.64,
          59.98,
          61.35,
          62.76,
          64.2,
          65.67,
          67.16,
          69.2
         ],
         "xaxis": "x3",
         "yaxis": "y3"
        },
        {
         "alignmentgroup": "True",
         "hovertemplate": "State/UT=JHARKHAND<br>RAPE=%{y}<extra></extra>",
         "legendgroup": "JHARKHAND",
         "marker": {
          "color": "#8C564B",
          "symbol": "circle"
         },
         "name": "JHARKHAND",
         "offsetgroup": "JHARKHAND",
         "scalegroup": "y",
         "showlegend": false,
         "type": "violin",
         "xaxis": "x2",
         "y": [
          567,
          797,
          712,
          797,
          753,
          799,
          855,
          791,
          719,
          773,
          784,
          812
         ],
         "yaxis": "y2"
        },
        {
         "hovertemplate": "State/UT=KARNATAKA<br>Lit_rate=%{x}<br>RAPE=%{y}<extra></extra>",
         "legendgroup": "KARNATAKA",
         "marker": {
          "color": "#E377C2",
          "symbol": "circle"
         },
         "mode": "markers",
         "name": "KARNATAKA",
         "orientation": "v",
         "showlegend": true,
         "type": "scatter",
         "x": [
          66.06,
          66.09,
          66.12,
          66.15,
          66.18,
          66.21,
          66.24,
          66.27,
          66.3,
          66.33,
          66.41,
          66.55
         ],
         "xaxis": "x",
         "y": [
          293,
          292,
          321,
          291,
          343,
          400,
          436,
          446,
          509,
          586,
          636,
          621
         ],
         "yaxis": "y"
        },
        {
         "alignmentgroup": "True",
         "hovertemplate": "State/UT=KARNATAKA<br>Lit_rate=%{x}<extra></extra>",
         "legendgroup": "KARNATAKA",
         "marker": {
          "color": "#E377C2",
          "symbol": "circle"
         },
         "name": "KARNATAKA",
         "notched": true,
         "offsetgroup": "KARNATAKA",
         "showlegend": false,
         "type": "box",
         "x": [
          66.06,
          66.09,
          66.12,
          66.15,
          66.18,
          66.21,
          66.24,
          66.27,
          66.3,
          66.33,
          66.41,
          66.55
         ],
         "xaxis": "x3",
         "yaxis": "y3"
        },
        {
         "alignmentgroup": "True",
         "hovertemplate": "State/UT=KARNATAKA<br>RAPE=%{y}<extra></extra>",
         "legendgroup": "KARNATAKA",
         "marker": {
          "color": "#E377C2",
          "symbol": "circle"
         },
         "name": "KARNATAKA",
         "offsetgroup": "KARNATAKA",
         "scalegroup": "y",
         "showlegend": false,
         "type": "violin",
         "xaxis": "x2",
         "y": [
          293,
          292,
          321,
          291,
          343,
          400,
          436,
          446,
          509,
          586,
          636,
          621
         ],
         "yaxis": "y2"
        },
        {
         "hovertemplate": "State/UT=KERALA<br>Lit_rate=%{x}<br>RAPE=%{y}<extra></extra>",
         "legendgroup": "KERALA",
         "marker": {
          "color": "#7F7F7F",
          "symbol": "circle"
         },
         "mode": "markers",
         "name": "KERALA",
         "orientation": "v",
         "showlegend": true,
         "type": "scatter",
         "x": [
          90.86,
          91.22,
          91.58,
          91.58,
          92.3,
          92.67,
          92.97,
          93.34,
          93.71,
          94.08,
          94,
          94.5
         ],
         "xaxis": "x",
         "y": [
          562,
          499,
          394,
          480,
          478,
          601,
          512,
          568,
          568,
          634,
          1132,
          1019
         ],
         "yaxis": "y"
        },
        {
         "alignmentgroup": "True",
         "hovertemplate": "State/UT=KERALA<br>Lit_rate=%{x}<extra></extra>",
         "legendgroup": "KERALA",
         "marker": {
          "color": "#7F7F7F",
          "symbol": "circle"
         },
         "name": "KERALA",
         "notched": true,
         "offsetgroup": "KERALA",
         "showlegend": false,
         "type": "box",
         "x": [
          90.86,
          91.22,
          91.58,
          91.58,
          92.3,
          92.67,
          92.97,
          93.34,
          93.71,
          94.08,
          94,
          94.5
         ],
         "xaxis": "x3",
         "yaxis": "y3"
        },
        {
         "alignmentgroup": "True",
         "hovertemplate": "State/UT=KERALA<br>RAPE=%{y}<extra></extra>",
         "legendgroup": "KERALA",
         "marker": {
          "color": "#7F7F7F",
          "symbol": "circle"
         },
         "name": "KERALA",
         "offsetgroup": "KERALA",
         "scalegroup": "y",
         "showlegend": false,
         "type": "violin",
         "xaxis": "x2",
         "y": [
          562,
          499,
          394,
          480,
          478,
          601,
          512,
          568,
          568,
          634,
          1132,
          1019
         ],
         "yaxis": "y2"
        },
        {
         "hovertemplate": "State/UT=LAKSHADWEEP<br>Lit_rate=%{x}<br>RAPE=%{y}<extra></extra>",
         "legendgroup": "LAKSHADWEEP",
         "marker": {
          "color": "#BCBD22",
          "symbol": "circle"
         },
         "mode": "markers",
         "name": "LAKSHADWEEP",
         "orientation": "v",
         "showlegend": true,
         "type": "scatter",
         "x": [
          86.66,
          87.39,
          88.13,
          88.87,
          89.62,
          90.38,
          91.14,
          91.91,
          92.69,
          93.47,
          94,
          94.2
         ],
         "xaxis": "x",
         "y": [
          0,
          1,
          2,
          0,
          0,
          0,
          1,
          2,
          1,
          0,
          0,
          0
         ],
         "yaxis": "y"
        },
        {
         "alignmentgroup": "True",
         "hovertemplate": "State/UT=LAKSHADWEEP<br>Lit_rate=%{x}<extra></extra>",
         "legendgroup": "LAKSHADWEEP",
         "marker": {
          "color": "#BCBD22",
          "symbol": "circle"
         },
         "name": "LAKSHADWEEP",
         "notched": true,
         "offsetgroup": "LAKSHADWEEP",
         "showlegend": false,
         "type": "box",
         "x": [
          86.66,
          87.39,
          88.13,
          88.87,
          89.62,
          90.38,
          91.14,
          91.91,
          92.69,
          93.47,
          94,
          94.2
         ],
         "xaxis": "x3",
         "yaxis": "y3"
        },
        {
         "alignmentgroup": "True",
         "hovertemplate": "State/UT=LAKSHADWEEP<br>RAPE=%{y}<extra></extra>",
         "legendgroup": "LAKSHADWEEP",
         "marker": {
          "color": "#BCBD22",
          "symbol": "circle"
         },
         "name": "LAKSHADWEEP",
         "offsetgroup": "LAKSHADWEEP",
         "scalegroup": "y",
         "showlegend": false,
         "type": "violin",
         "xaxis": "x2",
         "y": [
          0,
          1,
          2,
          0,
          0,
          0,
          1,
          2,
          1,
          0,
          0,
          0
         ],
         "yaxis": "y2"
        },
        {
         "hovertemplate": "State/UT=MADHYA PRADESH<br>Lit_rate=%{x}<br>RAPE=%{y}<extra></extra>",
         "legendgroup": "MADHYA PRADESH",
         "marker": {
          "color": "#17BECF",
          "symbol": "circle"
         },
         "mode": "markers",
         "name": "MADHYA PRADESH",
         "orientation": "v",
         "showlegend": true,
         "type": "scatter",
         "x": [
          63.74,
          66.09,
          68.53,
          71.06,
          73.68,
          76.4,
          79.2,
          82.13,
          85.16,
          88.31,
          91.85,
          93.1
         ],
         "xaxis": "x",
         "y": [
          2851,
          2891,
          2738,
          2875,
          2921,
          2900,
          3010,
          2937,
          2998,
          3135,
          3406,
          3425
         ],
         "yaxis": "y"
        },
        {
         "alignmentgroup": "True",
         "hovertemplate": "State/UT=MADHYA PRADESH<br>Lit_rate=%{x}<extra></extra>",
         "legendgroup": "MADHYA PRADESH",
         "marker": {
          "color": "#17BECF",
          "symbol": "circle"
         },
         "name": "MADHYA PRADESH",
         "notched": true,
         "offsetgroup": "MADHYA PRADESH",
         "showlegend": false,
         "type": "box",
         "x": [
          63.74,
          66.09,
          68.53,
          71.06,
          73.68,
          76.4,
          79.2,
          82.13,
          85.16,
          88.31,
          91.85,
          93.1
         ],
         "xaxis": "x3",
         "yaxis": "y3"
        },
        {
         "alignmentgroup": "True",
         "hovertemplate": "State/UT=MADHYA PRADESH<br>RAPE=%{y}<extra></extra>",
         "legendgroup": "MADHYA PRADESH",
         "marker": {
          "color": "#17BECF",
          "symbol": "circle"
         },
         "name": "MADHYA PRADESH",
         "offsetgroup": "MADHYA PRADESH",
         "scalegroup": "y",
         "showlegend": false,
         "type": "violin",
         "xaxis": "x2",
         "y": [
          2851,
          2891,
          2738,
          2875,
          2921,
          2900,
          3010,
          2937,
          2998,
          3135,
          3406,
          3425
         ],
         "yaxis": "y2"
        },
        {
         "hovertemplate": "State/UT=MAHARASHTRA<br>Lit_rate=%{x}<br>RAPE=%{y}<extra></extra>",
         "legendgroup": "MAHARASHTRA",
         "marker": {
          "color": "#1F77B4",
          "symbol": "circle"
         },
         "mode": "markers",
         "name": "MAHARASHTRA",
         "orientation": "v",
         "showlegend": true,
         "type": "scatter",
         "x": [
          76.84,
          77.37,
          77.91,
          78.45,
          78.99,
          79.54,
          80.09,
          80.65,
          81.21,
          81.77,
          82.34,
          82.88
         ],
         "xaxis": "x",
         "y": [
          1302,
          1352,
          1268,
          1388,
          1545,
          1500,
          1451,
          1558,
          1483,
          1599,
          1701,
          1839
         ],
         "yaxis": "y"
        },
        {
         "alignmentgroup": "True",
         "hovertemplate": "State/UT=MAHARASHTRA<br>Lit_rate=%{x}<extra></extra>",
         "legendgroup": "MAHARASHTRA",
         "marker": {
          "color": "#1F77B4",
          "symbol": "circle"
         },
         "name": "MAHARASHTRA",
         "notched": true,
         "offsetgroup": "MAHARASHTRA",
         "showlegend": false,
         "type": "box",
         "x": [
          76.84,
          77.37,
          77.91,
          78.45,
          78.99,
          79.54,
          80.09,
          80.65,
          81.21,
          81.77,
          82.34,
          82.88
         ],
         "xaxis": "x3",
         "yaxis": "y3"
        },
        {
         "alignmentgroup": "True",
         "hovertemplate": "State/UT=MAHARASHTRA<br>RAPE=%{y}<extra></extra>",
         "legendgroup": "MAHARASHTRA",
         "marker": {
          "color": "#1F77B4",
          "symbol": "circle"
         },
         "name": "MAHARASHTRA",
         "offsetgroup": "MAHARASHTRA",
         "scalegroup": "y",
         "showlegend": false,
         "type": "violin",
         "xaxis": "x2",
         "y": [
          1302,
          1352,
          1268,
          1388,
          1545,
          1500,
          1451,
          1558,
          1483,
          1599,
          1701,
          1839
         ],
         "yaxis": "y2"
        },
        {
         "hovertemplate": "State/UT=MANIPUR<br>Lit_rate=%{x}<br>RAPE=%{y}<extra></extra>",
         "legendgroup": "MANIPUR",
         "marker": {
          "color": "#FF7F0E",
          "symbol": "circle"
         },
         "mode": "markers",
         "name": "MANIPUR",
         "orientation": "v",
         "showlegend": true,
         "type": "scatter",
         "x": [
          70.5,
          71.17,
          71.85,
          72.54,
          73.23,
          73.93,
          74.63,
          75.34,
          76.06,
          76.79,
          76.94,
          77.06
         ],
         "xaxis": "x",
         "y": [
          20,
          14,
          18,
          31,
          25,
          40,
          20,
          38,
          31,
          34,
          53,
          63
         ],
         "yaxis": "y"
        },
        {
         "alignmentgroup": "True",
         "hovertemplate": "State/UT=MANIPUR<br>Lit_rate=%{x}<extra></extra>",
         "legendgroup": "MANIPUR",
         "marker": {
          "color": "#FF7F0E",
          "symbol": "circle"
         },
         "name": "MANIPUR",
         "notched": true,
         "offsetgroup": "MANIPUR",
         "showlegend": false,
         "type": "box",
         "x": [
          70.5,
          71.17,
          71.85,
          72.54,
          73.23,
          73.93,
          74.63,
          75.34,
          76.06,
          76.79,
          76.94,
          77.06
         ],
         "xaxis": "x3",
         "yaxis": "y3"
        },
        {
         "alignmentgroup": "True",
         "hovertemplate": "State/UT=MANIPUR<br>RAPE=%{y}<extra></extra>",
         "legendgroup": "MANIPUR",
         "marker": {
          "color": "#FF7F0E",
          "symbol": "circle"
         },
         "name": "MANIPUR",
         "offsetgroup": "MANIPUR",
         "scalegroup": "y",
         "showlegend": false,
         "type": "violin",
         "xaxis": "x2",
         "y": [
          20,
          14,
          18,
          31,
          25,
          40,
          20,
          38,
          31,
          34,
          53,
          63
         ],
         "yaxis": "y2"
        },
        {
         "hovertemplate": "State/UT=MEGHALAYA<br>Lit_rate=%{x}<br>RAPE=%{y}<extra></extra>",
         "legendgroup": "MEGHALAYA",
         "marker": {
          "color": "#2CA02C",
          "symbol": "circle"
         },
         "mode": "markers",
         "name": "MEGHALAYA",
         "orientation": "v",
         "showlegend": true,
         "type": "scatter",
         "x": [
          62.56,
          63.62,
          64.7,
          65.79,
          66.9,
          68.03,
          69.18,
          70.35,
          71.54,
          72.75,
          74.43,
          74.84
         ],
         "xaxis": "x",
         "y": [
          26,
          38,
          40,
          54,
          63,
          74,
          82,
          88,
          112,
          149,
          130,
          164
         ],
         "yaxis": "y"
        },
        {
         "alignmentgroup": "True",
         "hovertemplate": "State/UT=MEGHALAYA<br>Lit_rate=%{x}<extra></extra>",
         "legendgroup": "MEGHALAYA",
         "marker": {
          "color": "#2CA02C",
          "symbol": "circle"
         },
         "name": "MEGHALAYA",
         "notched": true,
         "offsetgroup": "MEGHALAYA",
         "showlegend": false,
         "type": "box",
         "x": [
          62.56,
          63.62,
          64.7,
          65.79,
          66.9,
          68.03,
          69.18,
          70.35,
          71.54,
          72.75,
          74.43,
          74.84
         ],
         "xaxis": "x3",
         "yaxis": "y3"
        },
        {
         "alignmentgroup": "True",
         "hovertemplate": "State/UT=MEGHALAYA<br>RAPE=%{y}<extra></extra>",
         "legendgroup": "MEGHALAYA",
         "marker": {
          "color": "#2CA02C",
          "symbol": "circle"
         },
         "name": "MEGHALAYA",
         "offsetgroup": "MEGHALAYA",
         "scalegroup": "y",
         "showlegend": false,
         "type": "violin",
         "xaxis": "x2",
         "y": [
          26,
          38,
          40,
          54,
          63,
          74,
          82,
          88,
          112,
          149,
          130,
          164
         ],
         "yaxis": "y2"
        },
        {
         "hovertemplate": "State/UT=MIZORAM<br>Lit_rate=%{x}<br>RAPE=%{y}<extra></extra>",
         "legendgroup": "MIZORAM",
         "marker": {
          "color": "#D62728",
          "symbol": "circle"
         },
         "mode": "markers",
         "name": "MIZORAM",
         "orientation": "v",
         "showlegend": true,
         "type": "scatter",
         "x": [
          88.8,
          89.05,
          89.3,
          89.55,
          89.8,
          90.06,
          90.32,
          90.58,
          90.84,
          91.1,
          91.33,
          91.66
         ],
         "xaxis": "x",
         "y": [
          52,
          76,
          54,
          20,
          37,
          72,
          83,
          77,
          83,
          92,
          77,
          103
         ],
         "yaxis": "y"
        },
        {
         "alignmentgroup": "True",
         "hovertemplate": "State/UT=MIZORAM<br>Lit_rate=%{x}<extra></extra>",
         "legendgroup": "MIZORAM",
         "marker": {
          "color": "#D62728",
          "symbol": "circle"
         },
         "name": "MIZORAM",
         "notched": true,
         "offsetgroup": "MIZORAM",
         "showlegend": false,
         "type": "box",
         "x": [
          88.8,
          89.05,
          89.3,
          89.55,
          89.8,
          90.06,
          90.32,
          90.58,
          90.84,
          91.1,
          91.33,
          91.66
         ],
         "xaxis": "x3",
         "yaxis": "y3"
        },
        {
         "alignmentgroup": "True",
         "hovertemplate": "State/UT=MIZORAM<br>RAPE=%{y}<extra></extra>",
         "legendgroup": "MIZORAM",
         "marker": {
          "color": "#D62728",
          "symbol": "circle"
         },
         "name": "MIZORAM",
         "offsetgroup": "MIZORAM",
         "scalegroup": "y",
         "showlegend": false,
         "type": "violin",
         "xaxis": "x2",
         "y": [
          52,
          76,
          54,
          20,
          37,
          72,
          83,
          77,
          83,
          92,
          77,
          103
         ],
         "yaxis": "y2"
        },
        {
         "hovertemplate": "State/UT=NAGALAND<br>Lit_rate=%{x}<br>RAPE=%{y}<extra></extra>",
         "legendgroup": "NAGALAND",
         "marker": {
          "color": "#9467BD",
          "symbol": "circle"
         },
         "mode": "markers",
         "name": "NAGALAND",
         "orientation": "v",
         "showlegend": true,
         "type": "scatter",
         "x": [
          66.59,
          67.12,
          67.78,
          69,
          70.24,
          71.5,
          72.78,
          74.09,
          75.42,
          76.77,
          79.55,
          80.48
         ],
         "xaxis": "x",
         "y": [
          17,
          17,
          14,
          18,
          17,
          23,
          13,
          19,
          22,
          16,
          23,
          21
         ],
         "yaxis": "y"
        },
        {
         "alignmentgroup": "True",
         "hovertemplate": "State/UT=NAGALAND<br>Lit_rate=%{x}<extra></extra>",
         "legendgroup": "NAGALAND",
         "marker": {
          "color": "#9467BD",
          "symbol": "circle"
         },
         "name": "NAGALAND",
         "notched": true,
         "offsetgroup": "NAGALAND",
         "showlegend": false,
         "type": "box",
         "x": [
          66.59,
          67.12,
          67.78,
          69,
          70.24,
          71.5,
          72.78,
          74.09,
          75.42,
          76.77,
          79.55,
          80.48
         ],
         "xaxis": "x3",
         "yaxis": "y3"
        },
        {
         "alignmentgroup": "True",
         "hovertemplate": "State/UT=NAGALAND<br>RAPE=%{y}<extra></extra>",
         "legendgroup": "NAGALAND",
         "marker": {
          "color": "#9467BD",
          "symbol": "circle"
         },
         "name": "NAGALAND",
         "offsetgroup": "NAGALAND",
         "scalegroup": "y",
         "showlegend": false,
         "type": "violin",
         "xaxis": "x2",
         "y": [
          17,
          17,
          14,
          18,
          17,
          23,
          13,
          19,
          22,
          16,
          23,
          21
         ],
         "yaxis": "y2"
        },
        {
         "hovertemplate": "State/UT=ODISHA<br>Lit_rate=%{x}<br>RAPE=%{y}<extra></extra>",
         "legendgroup": "ODISHA",
         "marker": {
          "color": "#8C564B",
          "symbol": "circle"
         },
         "mode": "markers",
         "name": "ODISHA",
         "orientation": "v",
         "showlegend": true,
         "type": "scatter",
         "x": [
          63.08,
          64.05,
          65.04,
          66.04,
          67.06,
          68.09,
          69.14,
          70.21,
          71.2,
          72.3,
          72.87,
          73.15
         ],
         "xaxis": "x",
         "y": [
          790,
          691,
          725,
          770,
          799,
          985,
          939,
          1113,
          1023,
          1025,
          1112,
          1458
         ],
         "yaxis": "y"
        },
        {
         "alignmentgroup": "True",
         "hovertemplate": "State/UT=ODISHA<br>Lit_rate=%{x}<extra></extra>",
         "legendgroup": "ODISHA",
         "marker": {
          "color": "#8C564B",
          "symbol": "circle"
         },
         "name": "ODISHA",
         "notched": true,
         "offsetgroup": "ODISHA",
         "showlegend": false,
         "type": "box",
         "x": [
          63.08,
          64.05,
          65.04,
          66.04,
          67.06,
          68.09,
          69.14,
          70.21,
          71.2,
          72.3,
          72.87,
          73.15
         ],
         "xaxis": "x3",
         "yaxis": "y3"
        },
        {
         "alignmentgroup": "True",
         "hovertemplate": "State/UT=ODISHA<br>RAPE=%{y}<extra></extra>",
         "legendgroup": "ODISHA",
         "marker": {
          "color": "#8C564B",
          "symbol": "circle"
         },
         "name": "ODISHA",
         "offsetgroup": "ODISHA",
         "scalegroup": "y",
         "showlegend": false,
         "type": "violin",
         "xaxis": "x2",
         "y": [
          790,
          691,
          725,
          770,
          799,
          985,
          939,
          1113,
          1023,
          1025,
          1112,
          1458
         ],
         "yaxis": "y2"
        },
        {
         "hovertemplate": "State/UT=PUDUCHERRY<br>Lit_rate=%{x}<br>RAPE=%{y}<extra></extra>",
         "legendgroup": "PUDUCHERRY",
         "marker": {
          "color": "#E377C2",
          "symbol": "circle"
         },
         "mode": "markers",
         "name": "PUDUCHERRY",
         "orientation": "v",
         "showlegend": true,
         "type": "scatter",
         "x": [
          81.24,
          81.68,
          82.12,
          82.57,
          83.02,
          83.47,
          83.92,
          84.38,
          84.84,
          85.3,
          85.85,
          86.1
         ],
         "xaxis": "x",
         "y": [
          9,
          6,
          2,
          4,
          6,
          9,
          9,
          8,
          1,
          3,
          7,
          13
         ],
         "yaxis": "y"
        },
        {
         "alignmentgroup": "True",
         "hovertemplate": "State/UT=PUDUCHERRY<br>Lit_rate=%{x}<extra></extra>",
         "legendgroup": "PUDUCHERRY",
         "marker": {
          "color": "#E377C2",
          "symbol": "circle"
         },
         "name": "PUDUCHERRY",
         "notched": true,
         "offsetgroup": "PUDUCHERRY",
         "showlegend": false,
         "type": "box",
         "x": [
          81.24,
          81.68,
          82.12,
          82.57,
          83.02,
          83.47,
          83.92,
          84.38,
          84.84,
          85.3,
          85.85,
          86.1
         ],
         "xaxis": "x3",
         "yaxis": "y3"
        },
        {
         "alignmentgroup": "True",
         "hovertemplate": "State/UT=PUDUCHERRY<br>RAPE=%{y}<extra></extra>",
         "legendgroup": "PUDUCHERRY",
         "marker": {
          "color": "#E377C2",
          "symbol": "circle"
         },
         "name": "PUDUCHERRY",
         "offsetgroup": "PUDUCHERRY",
         "scalegroup": "y",
         "showlegend": false,
         "type": "violin",
         "xaxis": "x2",
         "y": [
          9,
          6,
          2,
          4,
          6,
          9,
          9,
          8,
          1,
          3,
          7,
          13
         ],
         "yaxis": "y2"
        },
        {
         "hovertemplate": "State/UT=PUNJAB<br>Lit_rate=%{x}<br>RAPE=%{y}<extra></extra>",
         "legendgroup": "PUNJAB",
         "marker": {
          "color": "#7F7F7F",
          "symbol": "circle"
         },
         "mode": "markers",
         "name": "PUNJAB",
         "orientation": "v",
         "showlegend": true,
         "type": "scatter",
         "x": [
          69.65,
          70.24,
          70.83,
          71.43,
          72.03,
          72.64,
          73.25,
          73.87,
          74.49,
          75.12,
          75.84,
          76.11
         ],
         "xaxis": "x",
         "y": [
          298,
          299,
          380,
          390,
          398,
          442,
          519,
          517,
          511,
          546,
          479,
          680
         ],
         "yaxis": "y"
        },
        {
         "alignmentgroup": "True",
         "hovertemplate": "State/UT=PUNJAB<br>Lit_rate=%{x}<extra></extra>",
         "legendgroup": "PUNJAB",
         "marker": {
          "color": "#7F7F7F",
          "symbol": "circle"
         },
         "name": "PUNJAB",
         "notched": true,
         "offsetgroup": "PUNJAB",
         "showlegend": false,
         "type": "box",
         "x": [
          69.65,
          70.24,
          70.83,
          71.43,
          72.03,
          72.64,
          73.25,
          73.87,
          74.49,
          75.12,
          75.84,
          76.11
         ],
         "xaxis": "x3",
         "yaxis": "y3"
        },
        {
         "alignmentgroup": "True",
         "hovertemplate": "State/UT=PUNJAB<br>RAPE=%{y}<extra></extra>",
         "legendgroup": "PUNJAB",
         "marker": {
          "color": "#7F7F7F",
          "symbol": "circle"
         },
         "name": "PUNJAB",
         "offsetgroup": "PUNJAB",
         "scalegroup": "y",
         "showlegend": false,
         "type": "violin",
         "xaxis": "x2",
         "y": [
          298,
          299,
          380,
          390,
          398,
          442,
          519,
          517,
          511,
          546,
          479,
          680
         ],
         "yaxis": "y2"
        },
        {
         "hovertemplate": "State/UT=RAJASTHAN<br>Lit_rate=%{x}<br>RAPE=%{y}<extra></extra>",
         "legendgroup": "RAJASTHAN",
         "marker": {
          "color": "#BCBD22",
          "symbol": "circle"
         },
         "mode": "markers",
         "name": "RAJASTHAN",
         "orientation": "v",
         "showlegend": true,
         "type": "scatter",
         "x": [
          60.41,
          60.97,
          61.53,
          62.1,
          62.67,
          63.25,
          63.83,
          64.42,
          65.01,
          65.61,
          66.11,
          66.76
         ],
         "xaxis": "x",
         "y": [
          1049,
          1051,
          1050,
          1038,
          993,
          1085,
          1238,
          1355,
          1519,
          1571,
          1800,
          2049
         ],
         "yaxis": "y"
        },
        {
         "alignmentgroup": "True",
         "hovertemplate": "State/UT=RAJASTHAN<br>Lit_rate=%{x}<extra></extra>",
         "legendgroup": "RAJASTHAN",
         "marker": {
          "color": "#BCBD22",
          "symbol": "circle"
         },
         "name": "RAJASTHAN",
         "notched": true,
         "offsetgroup": "RAJASTHAN",
         "showlegend": false,
         "type": "box",
         "x": [
          60.41,
          60.97,
          61.53,
          62.1,
          62.67,
          63.25,
          63.83,
          64.42,
          65.01,
          65.61,
          66.11,
          66.76
         ],
         "xaxis": "x3",
         "yaxis": "y3"
        },
        {
         "alignmentgroup": "True",
         "hovertemplate": "State/UT=RAJASTHAN<br>RAPE=%{y}<extra></extra>",
         "legendgroup": "RAJASTHAN",
         "marker": {
          "color": "#BCBD22",
          "symbol": "circle"
         },
         "name": "RAJASTHAN",
         "offsetgroup": "RAJASTHAN",
         "scalegroup": "y",
         "showlegend": false,
         "type": "violin",
         "xaxis": "x2",
         "y": [
          1049,
          1051,
          1050,
          1038,
          993,
          1085,
          1238,
          1355,
          1519,
          1571,
          1800,
          2049
         ],
         "yaxis": "y2"
        },
        {
         "hovertemplate": "State/UT=SIKKIM<br>Lit_rate=%{x}<br>RAPE=%{y}<extra></extra>",
         "legendgroup": "SIKKIM",
         "marker": {
          "color": "#17BECF",
          "symbol": "circle"
         },
         "mode": "markers",
         "name": "SIKKIM",
         "orientation": "v",
         "showlegend": true,
         "type": "scatter",
         "x": [
          68.81,
          68.13,
          69.47,
          70.84,
          72.24,
          73.67,
          75.12,
          76.6,
          78.11,
          79.65,
          81.42,
          81.42
         ],
         "xaxis": "x",
         "y": [
          8,
          6,
          10,
          3,
          18,
          20,
          24,
          20,
          18,
          18,
          16,
          34
         ],
         "yaxis": "y"
        },
        {
         "alignmentgroup": "True",
         "hovertemplate": "State/UT=SIKKIM<br>Lit_rate=%{x}<extra></extra>",
         "legendgroup": "SIKKIM",
         "marker": {
          "color": "#17BECF",
          "symbol": "circle"
         },
         "name": "SIKKIM",
         "notched": true,
         "offsetgroup": "SIKKIM",
         "showlegend": false,
         "type": "box",
         "x": [
          68.81,
          68.13,
          69.47,
          70.84,
          72.24,
          73.67,
          75.12,
          76.6,
          78.11,
          79.65,
          81.42,
          81.42
         ],
         "xaxis": "x3",
         "yaxis": "y3"
        },
        {
         "alignmentgroup": "True",
         "hovertemplate": "State/UT=SIKKIM<br>RAPE=%{y}<extra></extra>",
         "legendgroup": "SIKKIM",
         "marker": {
          "color": "#17BECF",
          "symbol": "circle"
         },
         "name": "SIKKIM",
         "offsetgroup": "SIKKIM",
         "scalegroup": "y",
         "showlegend": false,
         "type": "violin",
         "xaxis": "x2",
         "y": [
          8,
          6,
          10,
          3,
          18,
          20,
          24,
          20,
          18,
          18,
          16,
          34
         ],
         "yaxis": "y2"
        },
        {
         "hovertemplate": "State/UT=TAMIL NADU<br>Lit_rate=%{x}<br>RAPE=%{y}<extra></extra>",
         "legendgroup": "TAMIL NADU",
         "marker": {
          "color": "#1F77B4",
          "symbol": "circle"
         },
         "mode": "markers",
         "name": "TAMIL NADU",
         "orientation": "v",
         "showlegend": true,
         "type": "scatter",
         "x": [
          73.45,
          74.11,
          74.77,
          75.44,
          76.11,
          76.79,
          77.48,
          78.17,
          78.87,
          79.57,
          80.33,
          80.88
         ],
         "xaxis": "x",
         "y": [
          423,
          534,
          557,
          618,
          571,
          457,
          523,
          573,
          596,
          686,
          677,
          737
         ],
         "yaxis": "y"
        },
        {
         "alignmentgroup": "True",
         "hovertemplate": "State/UT=TAMIL NADU<br>Lit_rate=%{x}<extra></extra>",
         "legendgroup": "TAMIL NADU",
         "marker": {
          "color": "#1F77B4",
          "symbol": "circle"
         },
         "name": "TAMIL NADU",
         "notched": true,
         "offsetgroup": "TAMIL NADU",
         "showlegend": false,
         "type": "box",
         "x": [
          73.45,
          74.11,
          74.77,
          75.44,
          76.11,
          76.79,
          77.48,
          78.17,
          78.87,
          79.57,
          80.33,
          80.88
         ],
         "xaxis": "x3",
         "yaxis": "y3"
        },
        {
         "alignmentgroup": "True",
         "hovertemplate": "State/UT=TAMIL NADU<br>RAPE=%{y}<extra></extra>",
         "legendgroup": "TAMIL NADU",
         "marker": {
          "color": "#1F77B4",
          "symbol": "circle"
         },
         "name": "TAMIL NADU",
         "offsetgroup": "TAMIL NADU",
         "scalegroup": "y",
         "showlegend": false,
         "type": "violin",
         "xaxis": "x2",
         "y": [
          423,
          534,
          557,
          618,
          571,
          457,
          523,
          573,
          596,
          686,
          677,
          737
         ],
         "yaxis": "y2"
        },
        {
         "hovertemplate": "State/UT=TRIPURA<br>Lit_rate=%{x}<br>RAPE=%{y}<extra></extra>",
         "legendgroup": "TRIPURA",
         "marker": {
          "color": "#FF7F0E",
          "symbol": "circle"
         },
         "mode": "markers",
         "name": "TRIPURA",
         "orientation": "v",
         "showlegend": true,
         "type": "scatter",
         "x": [
          73.19,
          73.84,
          74.5,
          75.17,
          75.84,
          76.52,
          77.2,
          77.89,
          78.59,
          79.29,
          80.09,
          80.89
         ],
         "xaxis": "x",
         "y": [
          102,
          108,
          114,
          160,
          162,
          189,
          157,
          204,
          190,
          238,
          205,
          229
         ],
         "yaxis": "y"
        },
        {
         "alignmentgroup": "True",
         "hovertemplate": "State/UT=TRIPURA<br>Lit_rate=%{x}<extra></extra>",
         "legendgroup": "TRIPURA",
         "marker": {
          "color": "#FF7F0E",
          "symbol": "circle"
         },
         "name": "TRIPURA",
         "notched": true,
         "offsetgroup": "TRIPURA",
         "showlegend": false,
         "type": "box",
         "x": [
          73.19,
          73.84,
          74.5,
          75.17,
          75.84,
          76.52,
          77.2,
          77.89,
          78.59,
          79.29,
          80.09,
          80.89
         ],
         "xaxis": "x3",
         "yaxis": "y3"
        },
        {
         "alignmentgroup": "True",
         "hovertemplate": "State/UT=TRIPURA<br>RAPE=%{y}<extra></extra>",
         "legendgroup": "TRIPURA",
         "marker": {
          "color": "#FF7F0E",
          "symbol": "circle"
         },
         "name": "TRIPURA",
         "offsetgroup": "TRIPURA",
         "scalegroup": "y",
         "showlegend": false,
         "type": "violin",
         "xaxis": "x2",
         "y": [
          102,
          108,
          114,
          160,
          162,
          189,
          157,
          204,
          190,
          238,
          205,
          229
         ],
         "yaxis": "y2"
        },
        {
         "hovertemplate": "State/UT=UTTAR PRADESH<br>Lit_rate=%{x}<br>RAPE=%{y}<extra></extra>",
         "legendgroup": "UTTAR PRADESH",
         "marker": {
          "color": "#2CA02C",
          "symbol": "circle"
         },
         "mode": "markers",
         "name": "UTTAR PRADESH",
         "orientation": "v",
         "showlegend": true,
         "type": "scatter",
         "x": [
          56.27,
          57.28,
          58.31,
          59.35,
          60.42,
          61.5,
          62.6,
          63.72,
          64.86,
          66.02,
          67.68,
          67.98
         ],
         "xaxis": "x",
         "y": [
          1958,
          1415,
          911,
          1397,
          1217,
          1314,
          1648,
          1871,
          1759,
          1563,
          2042,
          1963
         ],
         "yaxis": "y"
        },
        {
         "alignmentgroup": "True",
         "hovertemplate": "State/UT=UTTAR PRADESH<br>Lit_rate=%{x}<extra></extra>",
         "legendgroup": "UTTAR PRADESH",
         "marker": {
          "color": "#2CA02C",
          "symbol": "circle"
         },
         "name": "UTTAR PRADESH",
         "notched": true,
         "offsetgroup": "UTTAR PRADESH",
         "showlegend": false,
         "type": "box",
         "x": [
          56.27,
          57.28,
          58.31,
          59.35,
          60.42,
          61.5,
          62.6,
          63.72,
          64.86,
          66.02,
          67.68,
          67.98
         ],
         "xaxis": "x3",
         "yaxis": "y3"
        },
        {
         "alignmentgroup": "True",
         "hovertemplate": "State/UT=UTTAR PRADESH<br>RAPE=%{y}<extra></extra>",
         "legendgroup": "UTTAR PRADESH",
         "marker": {
          "color": "#2CA02C",
          "symbol": "circle"
         },
         "name": "UTTAR PRADESH",
         "offsetgroup": "UTTAR PRADESH",
         "scalegroup": "y",
         "showlegend": false,
         "type": "violin",
         "xaxis": "x2",
         "y": [
          1958,
          1415,
          911,
          1397,
          1217,
          1314,
          1648,
          1871,
          1759,
          1563,
          2042,
          1963
         ],
         "yaxis": "y2"
        },
        {
         "hovertemplate": "State/UT=UTTARAKHAND<br>Lit_rate=%{x}<br>RAPE=%{y}<extra></extra>",
         "legendgroup": "UTTARAKHAND",
         "marker": {
          "color": "#D62728",
          "symbol": "circle"
         },
         "mode": "markers",
         "name": "UTTARAKHAND",
         "orientation": "v",
         "showlegend": true,
         "type": "scatter",
         "x": [
          71.62,
          72.26,
          72.91,
          73.56,
          74.22,
          74.88,
          75.55,
          76.22,
          76.9,
          77.59,
          78.82,
          79.22
         ],
         "xaxis": "x",
         "y": [
          74,
          89,
          107,
          115,
          133,
          147,
          117,
          87,
          111,
          121,
          129,
          148
         ],
         "yaxis": "y"
        },
        {
         "alignmentgroup": "True",
         "hovertemplate": "State/UT=UTTARAKHAND<br>Lit_rate=%{x}<extra></extra>",
         "legendgroup": "UTTARAKHAND",
         "marker": {
          "color": "#D62728",
          "symbol": "circle"
         },
         "name": "UTTARAKHAND",
         "notched": true,
         "offsetgroup": "UTTARAKHAND",
         "showlegend": false,
         "type": "box",
         "x": [
          71.62,
          72.26,
          72.91,
          73.56,
          74.22,
          74.88,
          75.55,
          76.22,
          76.9,
          77.59,
          78.82,
          79.22
         ],
         "xaxis": "x3",
         "yaxis": "y3"
        },
        {
         "alignmentgroup": "True",
         "hovertemplate": "State/UT=UTTARAKHAND<br>RAPE=%{y}<extra></extra>",
         "legendgroup": "UTTARAKHAND",
         "marker": {
          "color": "#D62728",
          "symbol": "circle"
         },
         "name": "UTTARAKHAND",
         "offsetgroup": "UTTARAKHAND",
         "scalegroup": "y",
         "showlegend": false,
         "type": "violin",
         "xaxis": "x2",
         "y": [
          74,
          89,
          107,
          115,
          133,
          147,
          117,
          87,
          111,
          121,
          129,
          148
         ],
         "yaxis": "y2"
        },
        {
         "hovertemplate": "State/UT=WEST BENGAL<br>Lit_rate=%{x}<br>RAPE=%{y}<extra></extra>",
         "legendgroup": "WEST BENGAL",
         "marker": {
          "color": "#9467BD",
          "symbol": "circle"
         },
         "mode": "markers",
         "name": "WEST BENGAL",
         "orientation": "v",
         "showlegend": true,
         "type": "scatter",
         "x": [
          68.64,
          69.39,
          70.15,
          70.92,
          71.7,
          72.48,
          73.27,
          74.07,
          74.88,
          75.7,
          76.26,
          76.88
         ],
         "xaxis": "x",
         "y": [
          709,
          759,
          1002,
          1475,
          1686,
          1731,
          2106,
          2263,
          2336,
          2311,
          2363,
          2046
         ],
         "yaxis": "y"
        },
        {
         "alignmentgroup": "True",
         "hovertemplate": "State/UT=WEST BENGAL<br>Lit_rate=%{x}<extra></extra>",
         "legendgroup": "WEST BENGAL",
         "marker": {
          "color": "#9467BD",
          "symbol": "circle"
         },
         "name": "WEST BENGAL",
         "notched": true,
         "offsetgroup": "WEST BENGAL",
         "showlegend": false,
         "type": "box",
         "x": [
          68.64,
          69.39,
          70.15,
          70.92,
          71.7,
          72.48,
          73.27,
          74.07,
          74.88,
          75.7,
          76.26,
          76.88
         ],
         "xaxis": "x3",
         "yaxis": "y3"
        },
        {
         "alignmentgroup": "True",
         "hovertemplate": "State/UT=WEST BENGAL<br>RAPE=%{y}<extra></extra>",
         "legendgroup": "WEST BENGAL",
         "marker": {
          "color": "#9467BD",
          "symbol": "circle"
         },
         "name": "WEST BENGAL",
         "offsetgroup": "WEST BENGAL",
         "scalegroup": "y",
         "showlegend": false,
         "type": "violin",
         "xaxis": "x2",
         "y": [
          709,
          759,
          1002,
          1475,
          1686,
          1731,
          2106,
          2263,
          2336,
          2311,
          2363,
          2046
         ],
         "yaxis": "y2"
        }
       ],
       "layout": {
        "legend": {
         "title": {
          "text": "State/UT"
         },
         "tracegroupgap": 0
        },
        "margin": {
         "t": 60
        },
        "template": {
         "data": {
          "bar": [
           {
            "error_x": {
             "color": "rgb(36,36,36)"
            },
            "error_y": {
             "color": "rgb(36,36,36)"
            },
            "marker": {
             "line": {
              "color": "white",
              "width": 0.5
             },
             "pattern": {
              "fillmode": "overlay",
              "size": 10,
              "solidity": 0.2
             }
            },
            "type": "bar"
           }
          ],
          "barpolar": [
           {
            "marker": {
             "line": {
              "color": "white",
              "width": 0.5
             },
             "pattern": {
              "fillmode": "overlay",
              "size": 10,
              "solidity": 0.2
             }
            },
            "type": "barpolar"
           }
          ],
          "carpet": [
           {
            "aaxis": {
             "endlinecolor": "rgb(36,36,36)",
             "gridcolor": "white",
             "linecolor": "white",
             "minorgridcolor": "white",
             "startlinecolor": "rgb(36,36,36)"
            },
            "baxis": {
             "endlinecolor": "rgb(36,36,36)",
             "gridcolor": "white",
             "linecolor": "white",
             "minorgridcolor": "white",
             "startlinecolor": "rgb(36,36,36)"
            },
            "type": "carpet"
           }
          ],
          "choropleth": [
           {
            "colorbar": {
             "outlinewidth": 1,
             "tickcolor": "rgb(36,36,36)",
             "ticks": "outside"
            },
            "type": "choropleth"
           }
          ],
          "contour": [
           {
            "colorbar": {
             "outlinewidth": 1,
             "tickcolor": "rgb(36,36,36)",
             "ticks": "outside"
            },
            "colorscale": [
             [
              0,
              "#440154"
             ],
             [
              0.1111111111111111,
              "#482878"
             ],
             [
              0.2222222222222222,
              "#3e4989"
             ],
             [
              0.3333333333333333,
              "#31688e"
             ],
             [
              0.4444444444444444,
              "#26828e"
             ],
             [
              0.5555555555555556,
              "#1f9e89"
             ],
             [
              0.6666666666666666,
              "#35b779"
             ],
             [
              0.7777777777777778,
              "#6ece58"
             ],
             [
              0.8888888888888888,
              "#b5de2b"
             ],
             [
              1,
              "#fde725"
             ]
            ],
            "type": "contour"
           }
          ],
          "contourcarpet": [
           {
            "colorbar": {
             "outlinewidth": 1,
             "tickcolor": "rgb(36,36,36)",
             "ticks": "outside"
            },
            "type": "contourcarpet"
           }
          ],
          "heatmap": [
           {
            "colorbar": {
             "outlinewidth": 1,
             "tickcolor": "rgb(36,36,36)",
             "ticks": "outside"
            },
            "colorscale": [
             [
              0,
              "#440154"
             ],
             [
              0.1111111111111111,
              "#482878"
             ],
             [
              0.2222222222222222,
              "#3e4989"
             ],
             [
              0.3333333333333333,
              "#31688e"
             ],
             [
              0.4444444444444444,
              "#26828e"
             ],
             [
              0.5555555555555556,
              "#1f9e89"
             ],
             [
              0.6666666666666666,
              "#35b779"
             ],
             [
              0.7777777777777778,
              "#6ece58"
             ],
             [
              0.8888888888888888,
              "#b5de2b"
             ],
             [
              1,
              "#fde725"
             ]
            ],
            "type": "heatmap"
           }
          ],
          "heatmapgl": [
           {
            "colorbar": {
             "outlinewidth": 1,
             "tickcolor": "rgb(36,36,36)",
             "ticks": "outside"
            },
            "colorscale": [
             [
              0,
              "#440154"
             ],
             [
              0.1111111111111111,
              "#482878"
             ],
             [
              0.2222222222222222,
              "#3e4989"
             ],
             [
              0.3333333333333333,
              "#31688e"
             ],
             [
              0.4444444444444444,
              "#26828e"
             ],
             [
              0.5555555555555556,
              "#1f9e89"
             ],
             [
              0.6666666666666666,
              "#35b779"
             ],
             [
              0.7777777777777778,
              "#6ece58"
             ],
             [
              0.8888888888888888,
              "#b5de2b"
             ],
             [
              1,
              "#fde725"
             ]
            ],
            "type": "heatmapgl"
           }
          ],
          "histogram": [
           {
            "marker": {
             "line": {
              "color": "white",
              "width": 0.6
             }
            },
            "type": "histogram"
           }
          ],
          "histogram2d": [
           {
            "colorbar": {
             "outlinewidth": 1,
             "tickcolor": "rgb(36,36,36)",
             "ticks": "outside"
            },
            "colorscale": [
             [
              0,
              "#440154"
             ],
             [
              0.1111111111111111,
              "#482878"
             ],
             [
              0.2222222222222222,
              "#3e4989"
             ],
             [
              0.3333333333333333,
              "#31688e"
             ],
             [
              0.4444444444444444,
              "#26828e"
             ],
             [
              0.5555555555555556,
              "#1f9e89"
             ],
             [
              0.6666666666666666,
              "#35b779"
             ],
             [
              0.7777777777777778,
              "#6ece58"
             ],
             [
              0.8888888888888888,
              "#b5de2b"
             ],
             [
              1,
              "#fde725"
             ]
            ],
            "type": "histogram2d"
           }
          ],
          "histogram2dcontour": [
           {
            "colorbar": {
             "outlinewidth": 1,
             "tickcolor": "rgb(36,36,36)",
             "ticks": "outside"
            },
            "colorscale": [
             [
              0,
              "#440154"
             ],
             [
              0.1111111111111111,
              "#482878"
             ],
             [
              0.2222222222222222,
              "#3e4989"
             ],
             [
              0.3333333333333333,
              "#31688e"
             ],
             [
              0.4444444444444444,
              "#26828e"
             ],
             [
              0.5555555555555556,
              "#1f9e89"
             ],
             [
              0.6666666666666666,
              "#35b779"
             ],
             [
              0.7777777777777778,
              "#6ece58"
             ],
             [
              0.8888888888888888,
              "#b5de2b"
             ],
             [
              1,
              "#fde725"
             ]
            ],
            "type": "histogram2dcontour"
           }
          ],
          "mesh3d": [
           {
            "colorbar": {
             "outlinewidth": 1,
             "tickcolor": "rgb(36,36,36)",
             "ticks": "outside"
            },
            "type": "mesh3d"
           }
          ],
          "parcoords": [
           {
            "line": {
             "colorbar": {
              "outlinewidth": 1,
              "tickcolor": "rgb(36,36,36)",
              "ticks": "outside"
             }
            },
            "type": "parcoords"
           }
          ],
          "pie": [
           {
            "automargin": true,
            "type": "pie"
           }
          ],
          "scatter": [
           {
            "marker": {
             "colorbar": {
              "outlinewidth": 1,
              "tickcolor": "rgb(36,36,36)",
              "ticks": "outside"
             }
            },
            "type": "scatter"
           }
          ],
          "scatter3d": [
           {
            "line": {
             "colorbar": {
              "outlinewidth": 1,
              "tickcolor": "rgb(36,36,36)",
              "ticks": "outside"
             }
            },
            "marker": {
             "colorbar": {
              "outlinewidth": 1,
              "tickcolor": "rgb(36,36,36)",
              "ticks": "outside"
             }
            },
            "type": "scatter3d"
           }
          ],
          "scattercarpet": [
           {
            "marker": {
             "colorbar": {
              "outlinewidth": 1,
              "tickcolor": "rgb(36,36,36)",
              "ticks": "outside"
             }
            },
            "type": "scattercarpet"
           }
          ],
          "scattergeo": [
           {
            "marker": {
             "colorbar": {
              "outlinewidth": 1,
              "tickcolor": "rgb(36,36,36)",
              "ticks": "outside"
             }
            },
            "type": "scattergeo"
           }
          ],
          "scattergl": [
           {
            "marker": {
             "colorbar": {
              "outlinewidth": 1,
              "tickcolor": "rgb(36,36,36)",
              "ticks": "outside"
             }
            },
            "type": "scattergl"
           }
          ],
          "scattermapbox": [
           {
            "marker": {
             "colorbar": {
              "outlinewidth": 1,
              "tickcolor": "rgb(36,36,36)",
              "ticks": "outside"
             }
            },
            "type": "scattermapbox"
           }
          ],
          "scatterpolar": [
           {
            "marker": {
             "colorbar": {
              "outlinewidth": 1,
              "tickcolor": "rgb(36,36,36)",
              "ticks": "outside"
             }
            },
            "type": "scatterpolar"
           }
          ],
          "scatterpolargl": [
           {
            "marker": {
             "colorbar": {
              "outlinewidth": 1,
              "tickcolor": "rgb(36,36,36)",
              "ticks": "outside"
             }
            },
            "type": "scatterpolargl"
           }
          ],
          "scatterternary": [
           {
            "marker": {
             "colorbar": {
              "outlinewidth": 1,
              "tickcolor": "rgb(36,36,36)",
              "ticks": "outside"
             }
            },
            "type": "scatterternary"
           }
          ],
          "surface": [
           {
            "colorbar": {
             "outlinewidth": 1,
             "tickcolor": "rgb(36,36,36)",
             "ticks": "outside"
            },
            "colorscale": [
             [
              0,
              "#440154"
             ],
             [
              0.1111111111111111,
              "#482878"
             ],
             [
              0.2222222222222222,
              "#3e4989"
             ],
             [
              0.3333333333333333,
              "#31688e"
             ],
             [
              0.4444444444444444,
              "#26828e"
             ],
             [
              0.5555555555555556,
              "#1f9e89"
             ],
             [
              0.6666666666666666,
              "#35b779"
             ],
             [
              0.7777777777777778,
              "#6ece58"
             ],
             [
              0.8888888888888888,
              "#b5de2b"
             ],
             [
              1,
              "#fde725"
             ]
            ],
            "type": "surface"
           }
          ],
          "table": [
           {
            "cells": {
             "fill": {
              "color": "rgb(237,237,237)"
             },
             "line": {
              "color": "white"
             }
            },
            "header": {
             "fill": {
              "color": "rgb(217,217,217)"
             },
             "line": {
              "color": "white"
             }
            },
            "type": "table"
           }
          ]
         },
         "layout": {
          "annotationdefaults": {
           "arrowhead": 0,
           "arrowwidth": 1
          },
          "autotypenumbers": "strict",
          "coloraxis": {
           "colorbar": {
            "outlinewidth": 1,
            "tickcolor": "rgb(36,36,36)",
            "ticks": "outside"
           }
          },
          "colorscale": {
           "diverging": [
            [
             0,
             "rgb(103,0,31)"
            ],
            [
             0.1,
             "rgb(178,24,43)"
            ],
            [
             0.2,
             "rgb(214,96,77)"
            ],
            [
             0.3,
             "rgb(244,165,130)"
            ],
            [
             0.4,
             "rgb(253,219,199)"
            ],
            [
             0.5,
             "rgb(247,247,247)"
            ],
            [
             0.6,
             "rgb(209,229,240)"
            ],
            [
             0.7,
             "rgb(146,197,222)"
            ],
            [
             0.8,
             "rgb(67,147,195)"
            ],
            [
             0.9,
             "rgb(33,102,172)"
            ],
            [
             1,
             "rgb(5,48,97)"
            ]
           ],
           "sequential": [
            [
             0,
             "#440154"
            ],
            [
             0.1111111111111111,
             "#482878"
            ],
            [
             0.2222222222222222,
             "#3e4989"
            ],
            [
             0.3333333333333333,
             "#31688e"
            ],
            [
             0.4444444444444444,
             "#26828e"
            ],
            [
             0.5555555555555556,
             "#1f9e89"
            ],
            [
             0.6666666666666666,
             "#35b779"
            ],
            [
             0.7777777777777778,
             "#6ece58"
            ],
            [
             0.8888888888888888,
             "#b5de2b"
            ],
            [
             1,
             "#fde725"
            ]
           ],
           "sequentialminus": [
            [
             0,
             "#440154"
            ],
            [
             0.1111111111111111,
             "#482878"
            ],
            [
             0.2222222222222222,
             "#3e4989"
            ],
            [
             0.3333333333333333,
             "#31688e"
            ],
            [
             0.4444444444444444,
             "#26828e"
            ],
            [
             0.5555555555555556,
             "#1f9e89"
            ],
            [
             0.6666666666666666,
             "#35b779"
            ],
            [
             0.7777777777777778,
             "#6ece58"
            ],
            [
             0.8888888888888888,
             "#b5de2b"
            ],
            [
             1,
             "#fde725"
            ]
           ]
          },
          "colorway": [
           "#1F77B4",
           "#FF7F0E",
           "#2CA02C",
           "#D62728",
           "#9467BD",
           "#8C564B",
           "#E377C2",
           "#7F7F7F",
           "#BCBD22",
           "#17BECF"
          ],
          "font": {
           "color": "rgb(36,36,36)"
          },
          "geo": {
           "bgcolor": "white",
           "lakecolor": "white",
           "landcolor": "white",
           "showlakes": true,
           "showland": true,
           "subunitcolor": "white"
          },
          "hoverlabel": {
           "align": "left"
          },
          "hovermode": "closest",
          "mapbox": {
           "style": "light"
          },
          "paper_bgcolor": "white",
          "plot_bgcolor": "white",
          "polar": {
           "angularaxis": {
            "gridcolor": "rgb(232,232,232)",
            "linecolor": "rgb(36,36,36)",
            "showgrid": false,
            "showline": true,
            "ticks": "outside"
           },
           "bgcolor": "white",
           "radialaxis": {
            "gridcolor": "rgb(232,232,232)",
            "linecolor": "rgb(36,36,36)",
            "showgrid": false,
            "showline": true,
            "ticks": "outside"
           }
          },
          "scene": {
           "xaxis": {
            "backgroundcolor": "white",
            "gridcolor": "rgb(232,232,232)",
            "gridwidth": 2,
            "linecolor": "rgb(36,36,36)",
            "showbackground": true,
            "showgrid": false,
            "showline": true,
            "ticks": "outside",
            "zeroline": false,
            "zerolinecolor": "rgb(36,36,36)"
           },
           "yaxis": {
            "backgroundcolor": "white",
            "gridcolor": "rgb(232,232,232)",
            "gridwidth": 2,
            "linecolor": "rgb(36,36,36)",
            "showbackground": true,
            "showgrid": false,
            "showline": true,
            "ticks": "outside",
            "zeroline": false,
            "zerolinecolor": "rgb(36,36,36)"
           },
           "zaxis": {
            "backgroundcolor": "white",
            "gridcolor": "rgb(232,232,232)",
            "gridwidth": 2,
            "linecolor": "rgb(36,36,36)",
            "showbackground": true,
            "showgrid": false,
            "showline": true,
            "ticks": "outside",
            "zeroline": false,
            "zerolinecolor": "rgb(36,36,36)"
           }
          },
          "shapedefaults": {
           "fillcolor": "black",
           "line": {
            "width": 0
           },
           "opacity": 0.3
          },
          "ternary": {
           "aaxis": {
            "gridcolor": "rgb(232,232,232)",
            "linecolor": "rgb(36,36,36)",
            "showgrid": false,
            "showline": true,
            "ticks": "outside"
           },
           "baxis": {
            "gridcolor": "rgb(232,232,232)",
            "linecolor": "rgb(36,36,36)",
            "showgrid": false,
            "showline": true,
            "ticks": "outside"
           },
           "bgcolor": "white",
           "caxis": {
            "gridcolor": "rgb(232,232,232)",
            "linecolor": "rgb(36,36,36)",
            "showgrid": false,
            "showline": true,
            "ticks": "outside"
           }
          },
          "title": {
           "x": 0.05
          },
          "xaxis": {
           "automargin": true,
           "gridcolor": "rgb(232,232,232)",
           "linecolor": "rgb(36,36,36)",
           "showgrid": false,
           "showline": true,
           "ticks": "outside",
           "title": {
            "standoff": 15
           },
           "zeroline": false,
           "zerolinecolor": "rgb(36,36,36)"
          },
          "yaxis": {
           "automargin": true,
           "gridcolor": "rgb(232,232,232)",
           "linecolor": "rgb(36,36,36)",
           "showgrid": false,
           "showline": true,
           "ticks": "outside",
           "title": {
            "standoff": 15
           },
           "zeroline": false,
           "zerolinecolor": "rgb(36,36,36)"
          }
         }
        },
        "xaxis": {
         "anchor": "y",
         "domain": [
          0,
          0.7363
         ],
         "title": {
          "text": "Lit_rate"
         }
        },
        "xaxis2": {
         "anchor": "y2",
         "domain": [
          0.7413,
          1
         ],
         "matches": "x2",
         "showline": false,
         "showticklabels": false,
         "ticks": ""
        },
        "xaxis3": {
         "anchor": "y3",
         "domain": [
          0,
          0.7363
         ],
         "matches": "x",
         "showticklabels": false
        },
        "xaxis4": {
         "anchor": "y4",
         "domain": [
          0.7413,
          1
         ],
         "matches": "x2",
         "showline": false,
         "showticklabels": false,
         "ticks": ""
        },
        "yaxis": {
         "anchor": "x",
         "domain": [
          0,
          0.7326
         ],
         "title": {
          "text": "RAPE"
         }
        },
        "yaxis2": {
         "anchor": "x2",
         "domain": [
          0,
          0.7326
         ],
         "matches": "y",
         "showticklabels": false
        },
        "yaxis3": {
         "anchor": "x3",
         "domain": [
          0.7426,
          1
         ],
         "matches": "y3",
         "showline": false,
         "showticklabels": false,
         "ticks": ""
        },
        "yaxis4": {
         "anchor": "x4",
         "domain": [
          0.7426,
          1
         ],
         "matches": "y3",
         "showline": false,
         "showticklabels": false,
         "ticks": ""
        }
       }
      },
      "text/html": [
       "<div>                            <div id=\"140bf87d-bb1b-4e0d-be63-af5130ffecb4\" class=\"plotly-graph-div\" style=\"height:525px; width:100%;\"></div>            <script type=\"text/javascript\">                require([\"plotly\"], function(Plotly) {                    window.PLOTLYENV=window.PLOTLYENV || {};                                    if (document.getElementById(\"140bf87d-bb1b-4e0d-be63-af5130ffecb4\")) {                    Plotly.newPlot(                        \"140bf87d-bb1b-4e0d-be63-af5130ffecb4\",                        [{\"hovertemplate\":\"State/UT=A& N ISLANDS<br>Lit_rate=%{x}<br>RAPE=%{y}<extra></extra>\",\"legendgroup\":\"A& N ISLANDS\",\"marker\":{\"color\":\"#1F77B4\",\"symbol\":\"circle\"},\"mode\":\"markers\",\"name\":\"A& N ISLANDS\",\"orientation\":\"v\",\"showlegend\":true,\"x\":[81.3,81.7,82.1,82.5,82.9,83.3,83.7,84.1,84.5,84.9,86.63,88.36],\"xaxis\":\"x\",\"y\":[3,2,2,10,4,6,3,12,18,24,13,12],\"yaxis\":\"y\",\"type\":\"scatter\"},{\"alignmentgroup\":\"True\",\"hovertemplate\":\"State/UT=A& N ISLANDS<br>Lit_rate=%{x}<extra></extra>\",\"legendgroup\":\"A& N ISLANDS\",\"marker\":{\"color\":\"#1F77B4\",\"symbol\":\"circle\"},\"name\":\"A& N ISLANDS\",\"notched\":true,\"offsetgroup\":\"A& N ISLANDS\",\"showlegend\":false,\"x\":[81.3,81.7,82.1,82.5,82.9,83.3,83.7,84.1,84.5,84.9,86.63,88.36],\"xaxis\":\"x3\",\"yaxis\":\"y3\",\"type\":\"box\"},{\"alignmentgroup\":\"True\",\"hovertemplate\":\"State/UT=A& N ISLANDS<br>RAPE=%{y}<extra></extra>\",\"legendgroup\":\"A& N ISLANDS\",\"marker\":{\"color\":\"#1F77B4\",\"symbol\":\"circle\"},\"name\":\"A& N ISLANDS\",\"offsetgroup\":\"A& N ISLANDS\",\"scalegroup\":\"y\",\"showlegend\":false,\"xaxis\":\"x2\",\"y\":[3,2,2,10,4,6,3,12,18,24,13,12],\"yaxis\":\"y2\",\"type\":\"violin\"},{\"hovertemplate\":\"State/UT=ANDHRA PRADESH<br>Lit_rate=%{x}<br>RAPE=%{y}<extra></extra>\",\"legendgroup\":\"ANDHRA PRADESH\",\"marker\":{\"color\":\"#FF7F0E\",\"symbol\":\"circle\"},\"mode\":\"markers\",\"name\":\"ANDHRA PRADESH\",\"orientation\":\"v\",\"showlegend\":true,\"x\":[60.47,61.07,61.6,62.2,62.8,63.4,64.03,64.6,65.2,65.8,67.02,67.6],\"xaxis\":\"x\",\"y\":[871,1002,946,1016,935,1049,1070,1257,1188,1362,1442,1341],\"yaxis\":\"y\",\"type\":\"scatter\"},{\"alignmentgroup\":\"True\",\"hovertemplate\":\"State/UT=ANDHRA PRADESH<br>Lit_rate=%{x}<extra></extra>\",\"legendgroup\":\"ANDHRA PRADESH\",\"marker\":{\"color\":\"#FF7F0E\",\"symbol\":\"circle\"},\"name\":\"ANDHRA PRADESH\",\"notched\":true,\"offsetgroup\":\"ANDHRA PRADESH\",\"showlegend\":false,\"x\":[60.47,61.07,61.6,62.2,62.8,63.4,64.03,64.6,65.2,65.8,67.02,67.6],\"xaxis\":\"x3\",\"yaxis\":\"y3\",\"type\":\"box\"},{\"alignmentgroup\":\"True\",\"hovertemplate\":\"State/UT=ANDHRA PRADESH<br>RAPE=%{y}<extra></extra>\",\"legendgroup\":\"ANDHRA PRADESH\",\"marker\":{\"color\":\"#FF7F0E\",\"symbol\":\"circle\"},\"name\":\"ANDHRA PRADESH\",\"offsetgroup\":\"ANDHRA PRADESH\",\"scalegroup\":\"y\",\"showlegend\":false,\"xaxis\":\"x2\",\"y\":[871,1002,946,1016,935,1049,1070,1257,1188,1362,1442,1341],\"yaxis\":\"y2\",\"type\":\"violin\"},{\"hovertemplate\":\"State/UT=ARUNACHAL PRADESH<br>Lit_rate=%{x}<br>RAPE=%{y}<extra></extra>\",\"legendgroup\":\"ARUNACHAL PRADESH\",\"marker\":{\"color\":\"#2CA02C\",\"symbol\":\"circle\"},\"mode\":\"markers\",\"name\":\"ARUNACHAL PRADESH\",\"orientation\":\"v\",\"showlegend\":true,\"x\":[54.34,55.3,56.3,57.3,58.3,59.3,60.3,61.3,62.3,63.3,65.38,66.3],\"xaxis\":\"x\",\"y\":[33,38,31,42,35,37,48,42,59,47,42,46],\"yaxis\":\"y\",\"type\":\"scatter\"},{\"alignmentgroup\":\"True\",\"hovertemplate\":\"State/UT=ARUNACHAL PRADESH<br>Lit_rate=%{x}<extra></extra>\",\"legendgroup\":\"ARUNACHAL PRADESH\",\"marker\":{\"color\":\"#2CA02C\",\"symbol\":\"circle\"},\"name\":\"ARUNACHAL PRADESH\",\"notched\":true,\"offsetgroup\":\"ARUNACHAL PRADESH\",\"showlegend\":false,\"x\":[54.34,55.3,56.3,57.3,58.3,59.3,60.3,61.3,62.3,63.3,65.38,66.3],\"xaxis\":\"x3\",\"yaxis\":\"y3\",\"type\":\"box\"},{\"alignmentgroup\":\"True\",\"hovertemplate\":\"State/UT=ARUNACHAL PRADESH<br>RAPE=%{y}<extra></extra>\",\"legendgroup\":\"ARUNACHAL PRADESH\",\"marker\":{\"color\":\"#2CA02C\",\"symbol\":\"circle\"},\"name\":\"ARUNACHAL PRADESH\",\"offsetgroup\":\"ARUNACHAL PRADESH\",\"scalegroup\":\"y\",\"showlegend\":false,\"xaxis\":\"x2\",\"y\":[33,38,31,42,35,37,48,42,59,47,42,46],\"yaxis\":\"y2\",\"type\":\"violin\"},{\"hovertemplate\":\"State/UT=ASSAM<br>Lit_rate=%{x}<br>RAPE=%{y}<extra></extra>\",\"legendgroup\":\"ASSAM\",\"marker\":{\"color\":\"#D62728\",\"symbol\":\"circle\"},\"mode\":\"markers\",\"name\":\"ASSAM\",\"orientation\":\"v\",\"showlegend\":true,\"x\":[63.25,64.0,64.8,65.6,66.4,67.2,68.0,68.8,69.6,70.4,72.19,72.59],\"xaxis\":\"x\",\"y\":[817,970,1095,1171,1238,1244,1437,1438,1631,1721,1700,1716],\"yaxis\":\"y\",\"type\":\"scatter\"},{\"alignmentgroup\":\"True\",\"hovertemplate\":\"State/UT=ASSAM<br>Lit_rate=%{x}<extra></extra>\",\"legendgroup\":\"ASSAM\",\"marker\":{\"color\":\"#D62728\",\"symbol\":\"circle\"},\"name\":\"ASSAM\",\"notched\":true,\"offsetgroup\":\"ASSAM\",\"showlegend\":false,\"x\":[63.25,64.0,64.8,65.6,66.4,67.2,68.0,68.8,69.6,70.4,72.19,72.59],\"xaxis\":\"x3\",\"yaxis\":\"y3\",\"type\":\"box\"},{\"alignmentgroup\":\"True\",\"hovertemplate\":\"State/UT=ASSAM<br>RAPE=%{y}<extra></extra>\",\"legendgroup\":\"ASSAM\",\"marker\":{\"color\":\"#D62728\",\"symbol\":\"circle\"},\"name\":\"ASSAM\",\"offsetgroup\":\"ASSAM\",\"scalegroup\":\"y\",\"showlegend\":false,\"xaxis\":\"x2\",\"y\":[817,970,1095,1171,1238,1244,1437,1438,1631,1721,1700,1716],\"yaxis\":\"y2\",\"type\":\"violin\"},{\"hovertemplate\":\"State/UT=BIHAR<br>Lit_rate=%{x}<br>RAPE=%{y}<extra></extra>\",\"legendgroup\":\"BIHAR\",\"marker\":{\"color\":\"#9467BD\",\"symbol\":\"circle\"},\"mode\":\"markers\",\"name\":\"BIHAR\",\"orientation\":\"v\",\"showlegend\":true,\"x\":[47.0,48.3,49.6,50.9,52.3,53.7,55.2,56.7,58.2,59.8,61.8,62.4],\"xaxis\":\"x\",\"y\":[888,1040,985,1390,1147,1232,1555,1302,929,795,934,927],\"yaxis\":\"y\",\"type\":\"scatter\"},{\"alignmentgroup\":\"True\",\"hovertemplate\":\"State/UT=BIHAR<br>Lit_rate=%{x}<extra></extra>\",\"legendgroup\":\"BIHAR\",\"marker\":{\"color\":\"#9467BD\",\"symbol\":\"circle\"},\"name\":\"BIHAR\",\"notched\":true,\"offsetgroup\":\"BIHAR\",\"showlegend\":false,\"x\":[47.0,48.3,49.6,50.9,52.3,53.7,55.2,56.7,58.2,59.8,61.8,62.4],\"xaxis\":\"x3\",\"yaxis\":\"y3\",\"type\":\"box\"},{\"alignmentgroup\":\"True\",\"hovertemplate\":\"State/UT=BIHAR<br>RAPE=%{y}<extra></extra>\",\"legendgroup\":\"BIHAR\",\"marker\":{\"color\":\"#9467BD\",\"symbol\":\"circle\"},\"name\":\"BIHAR\",\"offsetgroup\":\"BIHAR\",\"scalegroup\":\"y\",\"showlegend\":false,\"xaxis\":\"x2\",\"y\":[888,1040,985,1390,1147,1232,1555,1302,929,795,934,927],\"yaxis\":\"y2\",\"type\":\"violin\"},{\"hovertemplate\":\"State/UT=CHANDIGARH<br>Lit_rate=%{x}<br>RAPE=%{y}<extra></extra>\",\"legendgroup\":\"CHANDIGARH\",\"marker\":{\"color\":\"#8C564B\",\"symbol\":\"circle\"},\"mode\":\"markers\",\"name\":\"CHANDIGARH\",\"orientation\":\"v\",\"showlegend\":true,\"x\":[81.94,82.3,82.7,83.1,83.5,83.9,84.3,84.7,84.1,84.5,86.05,86.9],\"xaxis\":\"x\",\"y\":[18,18,18,19,33,19,22,20,29,31,27,27],\"yaxis\":\"y\",\"type\":\"scatter\"},{\"alignmentgroup\":\"True\",\"hovertemplate\":\"State/UT=CHANDIGARH<br>Lit_rate=%{x}<extra></extra>\",\"legendgroup\":\"CHANDIGARH\",\"marker\":{\"color\":\"#8C564B\",\"symbol\":\"circle\"},\"name\":\"CHANDIGARH\",\"notched\":true,\"offsetgroup\":\"CHANDIGARH\",\"showlegend\":false,\"x\":[81.94,82.3,82.7,83.1,83.5,83.9,84.3,84.7,84.1,84.5,86.05,86.9],\"xaxis\":\"x3\",\"yaxis\":\"y3\",\"type\":\"box\"},{\"alignmentgroup\":\"True\",\"hovertemplate\":\"State/UT=CHANDIGARH<br>RAPE=%{y}<extra></extra>\",\"legendgroup\":\"CHANDIGARH\",\"marker\":{\"color\":\"#8C564B\",\"symbol\":\"circle\"},\"name\":\"CHANDIGARH\",\"offsetgroup\":\"CHANDIGARH\",\"scalegroup\":\"y\",\"showlegend\":false,\"xaxis\":\"x2\",\"y\":[18,18,18,19,33,19,22,20,29,31,27,27],\"yaxis\":\"y2\",\"type\":\"violin\"},{\"hovertemplate\":\"State/UT=CHHATTISGARH<br>Lit_rate=%{x}<br>RAPE=%{y}<extra></extra>\",\"legendgroup\":\"CHHATTISGARH\",\"marker\":{\"color\":\"#E377C2\",\"symbol\":\"circle\"},\"mode\":\"markers\",\"name\":\"CHHATTISGARH\",\"orientation\":\"v\",\"showlegend\":true,\"x\":[64.66,65.19,65.72,66.25,65.78,66.31,66.85,67.39,67.94,68.49,70.28,71.5],\"xaxis\":\"x\",\"y\":[959,992,898,969,990,995,982,978,976,1012,1053,1034],\"yaxis\":\"y\",\"type\":\"scatter\"},{\"alignmentgroup\":\"True\",\"hovertemplate\":\"State/UT=CHHATTISGARH<br>Lit_rate=%{x}<extra></extra>\",\"legendgroup\":\"CHHATTISGARH\",\"marker\":{\"color\":\"#E377C2\",\"symbol\":\"circle\"},\"name\":\"CHHATTISGARH\",\"notched\":true,\"offsetgroup\":\"CHHATTISGARH\",\"showlegend\":false,\"x\":[64.66,65.19,65.72,66.25,65.78,66.31,66.85,67.39,67.94,68.49,70.28,71.5],\"xaxis\":\"x3\",\"yaxis\":\"y3\",\"type\":\"box\"},{\"alignmentgroup\":\"True\",\"hovertemplate\":\"State/UT=CHHATTISGARH<br>RAPE=%{y}<extra></extra>\",\"legendgroup\":\"CHHATTISGARH\",\"marker\":{\"color\":\"#E377C2\",\"symbol\":\"circle\"},\"name\":\"CHHATTISGARH\",\"offsetgroup\":\"CHHATTISGARH\",\"scalegroup\":\"y\",\"showlegend\":false,\"xaxis\":\"x2\",\"y\":[959,992,898,969,990,995,982,978,976,1012,1053,1034],\"yaxis\":\"y2\",\"type\":\"violin\"},{\"hovertemplate\":\"State/UT=D & N HAVELI<br>Lit_rate=%{x}<br>RAPE=%{y}<extra></extra>\",\"legendgroup\":\"D & N HAVELI\",\"marker\":{\"color\":\"#7F7F7F\",\"symbol\":\"circle\"},\"mode\":\"markers\",\"name\":\"D & N HAVELI\",\"orientation\":\"v\",\"showlegend\":true,\"x\":[57.63,59.3,61.01,62.77,64.59,66.46,68.39,70.37,72.41,74.5,76.24,78.39],\"xaxis\":\"x\",\"y\":[6,4,1,7,5,6,7,6,4,3,4,3],\"yaxis\":\"y\",\"type\":\"scatter\"},{\"alignmentgroup\":\"True\",\"hovertemplate\":\"State/UT=D & N HAVELI<br>Lit_rate=%{x}<extra></extra>\",\"legendgroup\":\"D & N HAVELI\",\"marker\":{\"color\":\"#7F7F7F\",\"symbol\":\"circle\"},\"name\":\"D & N HAVELI\",\"notched\":true,\"offsetgroup\":\"D & N HAVELI\",\"showlegend\":false,\"x\":[57.63,59.3,61.01,62.77,64.59,66.46,68.39,70.37,72.41,74.5,76.24,78.39],\"xaxis\":\"x3\",\"yaxis\":\"y3\",\"type\":\"box\"},{\"alignmentgroup\":\"True\",\"hovertemplate\":\"State/UT=D & N HAVELI<br>RAPE=%{y}<extra></extra>\",\"legendgroup\":\"D & N HAVELI\",\"marker\":{\"color\":\"#7F7F7F\",\"symbol\":\"circle\"},\"name\":\"D & N HAVELI\",\"offsetgroup\":\"D & N HAVELI\",\"scalegroup\":\"y\",\"showlegend\":false,\"xaxis\":\"x2\",\"y\":[6,4,1,7,5,6,7,6,4,3,4,3],\"yaxis\":\"y2\",\"type\":\"violin\"},{\"hovertemplate\":\"State/UT=DAMAN & DIU<br>Lit_rate=%{x}<br>RAPE=%{y}<extra></extra>\",\"legendgroup\":\"DAMAN & DIU\",\"marker\":{\"color\":\"#BCBD22\",\"symbol\":\"circle\"},\"mode\":\"markers\",\"name\":\"DAMAN & DIU\",\"orientation\":\"v\",\"showlegend\":true,\"x\":[78.18,79.03,79.89,80.76,81.64,82.53,83.43,84.34,85.26,86.19,87.1,87.18],\"xaxis\":\"x\",\"y\":[6,4,1,7,5,6,7,6,4,3,4,5],\"yaxis\":\"y\",\"type\":\"scatter\"},{\"alignmentgroup\":\"True\",\"hovertemplate\":\"State/UT=DAMAN & DIU<br>Lit_rate=%{x}<extra></extra>\",\"legendgroup\":\"DAMAN & DIU\",\"marker\":{\"color\":\"#BCBD22\",\"symbol\":\"circle\"},\"name\":\"DAMAN & DIU\",\"notched\":true,\"offsetgroup\":\"DAMAN & DIU\",\"showlegend\":false,\"x\":[78.18,79.03,79.89,80.76,81.64,82.53,83.43,84.34,85.26,86.19,87.1,87.18],\"xaxis\":\"x3\",\"yaxis\":\"y3\",\"type\":\"box\"},{\"alignmentgroup\":\"True\",\"hovertemplate\":\"State/UT=DAMAN & DIU<br>RAPE=%{y}<extra></extra>\",\"legendgroup\":\"DAMAN & DIU\",\"marker\":{\"color\":\"#BCBD22\",\"symbol\":\"circle\"},\"name\":\"DAMAN & DIU\",\"offsetgroup\":\"DAMAN & DIU\",\"scalegroup\":\"y\",\"showlegend\":false,\"xaxis\":\"x2\",\"y\":[6,4,1,7,5,6,7,6,4,3,4,5],\"yaxis\":\"y2\",\"type\":\"violin\"},{\"hovertemplate\":\"State/UT=DELHI<br>Lit_rate=%{x}<br>RAPE=%{y}<extra></extra>\",\"legendgroup\":\"DELHI\",\"marker\":{\"color\":\"#17BECF\",\"symbol\":\"circle\"},\"mode\":\"markers\",\"name\":\"DELHI\",\"orientation\":\"v\",\"showlegend\":true,\"x\":[81.67,82.11,82.56,83.01,83.47,83.92,84.38,84.84,85.3,85.76,86.21,86.81],\"xaxis\":\"x\",\"y\":[381,403,490,551,658,623,598,466,469,507,572,706],\"yaxis\":\"y\",\"type\":\"scatter\"},{\"alignmentgroup\":\"True\",\"hovertemplate\":\"State/UT=DELHI<br>Lit_rate=%{x}<extra></extra>\",\"legendgroup\":\"DELHI\",\"marker\":{\"color\":\"#17BECF\",\"symbol\":\"circle\"},\"name\":\"DELHI\",\"notched\":true,\"offsetgroup\":\"DELHI\",\"showlegend\":false,\"x\":[81.67,82.11,82.56,83.01,83.47,83.92,84.38,84.84,85.3,85.76,86.21,86.81],\"xaxis\":\"x3\",\"yaxis\":\"y3\",\"type\":\"box\"},{\"alignmentgroup\":\"True\",\"hovertemplate\":\"State/UT=DELHI<br>RAPE=%{y}<extra></extra>\",\"legendgroup\":\"DELHI\",\"marker\":{\"color\":\"#17BECF\",\"symbol\":\"circle\"},\"name\":\"DELHI\",\"offsetgroup\":\"DELHI\",\"scalegroup\":\"y\",\"showlegend\":false,\"xaxis\":\"x2\",\"y\":[381,403,490,551,658,623,598,466,469,507,572,706],\"yaxis\":\"y2\",\"type\":\"violin\"},{\"hovertemplate\":\"State/UT=GOA<br>Lit_rate=%{x}<br>RAPE=%{y}<extra></extra>\",\"legendgroup\":\"GOA\",\"marker\":{\"color\":\"#1F77B4\",\"symbol\":\"circle\"},\"mode\":\"markers\",\"name\":\"GOA\",\"orientation\":\"v\",\"showlegend\":true,\"x\":[82.01,82.42,82.83,83.24,83.65,84.06,84.48,84.9,85.32,85.74,86.21,86.65],\"xaxis\":\"x\",\"y\":[12,12,31,37,20,21,20,30,47,36,29,55],\"yaxis\":\"y\",\"type\":\"scatter\"},{\"alignmentgroup\":\"True\",\"hovertemplate\":\"State/UT=GOA<br>Lit_rate=%{x}<extra></extra>\",\"legendgroup\":\"GOA\",\"marker\":{\"color\":\"#1F77B4\",\"symbol\":\"circle\"},\"name\":\"GOA\",\"notched\":true,\"offsetgroup\":\"GOA\",\"showlegend\":false,\"x\":[82.01,82.42,82.83,83.24,83.65,84.06,84.48,84.9,85.32,85.74,86.21,86.65],\"xaxis\":\"x3\",\"yaxis\":\"y3\",\"type\":\"box\"},{\"alignmentgroup\":\"True\",\"hovertemplate\":\"State/UT=GOA<br>RAPE=%{y}<extra></extra>\",\"legendgroup\":\"GOA\",\"marker\":{\"color\":\"#1F77B4\",\"symbol\":\"circle\"},\"name\":\"GOA\",\"offsetgroup\":\"GOA\",\"scalegroup\":\"y\",\"showlegend\":false,\"xaxis\":\"x2\",\"y\":[12,12,31,37,20,21,20,30,47,36,29,55],\"yaxis\":\"y2\",\"type\":\"violin\"},{\"hovertemplate\":\"State/UT=GUJARAT<br>Lit_rate=%{x}<br>RAPE=%{y}<extra></extra>\",\"legendgroup\":\"GUJARAT\",\"marker\":{\"color\":\"#FF7F0E\",\"symbol\":\"circle\"},\"mode\":\"markers\",\"name\":\"GUJARAT\",\"orientation\":\"v\",\"showlegend\":true,\"x\":[69.14,70.86,72.63,74.44,76.3,78.2,80.15,82.15,84.2,86.3,88.7,89.3],\"xaxis\":\"x\",\"y\":[286,267,236,339,324,354,316,374,433,408,439,473],\"yaxis\":\"y\",\"type\":\"scatter\"},{\"alignmentgroup\":\"True\",\"hovertemplate\":\"State/UT=GUJARAT<br>Lit_rate=%{x}<extra></extra>\",\"legendgroup\":\"GUJARAT\",\"marker\":{\"color\":\"#FF7F0E\",\"symbol\":\"circle\"},\"name\":\"GUJARAT\",\"notched\":true,\"offsetgroup\":\"GUJARAT\",\"showlegend\":false,\"x\":[69.14,70.86,72.63,74.44,76.3,78.2,80.15,82.15,84.2,86.3,88.7,89.3],\"xaxis\":\"x3\",\"yaxis\":\"y3\",\"type\":\"box\"},{\"alignmentgroup\":\"True\",\"hovertemplate\":\"State/UT=GUJARAT<br>RAPE=%{y}<extra></extra>\",\"legendgroup\":\"GUJARAT\",\"marker\":{\"color\":\"#FF7F0E\",\"symbol\":\"circle\"},\"name\":\"GUJARAT\",\"offsetgroup\":\"GUJARAT\",\"scalegroup\":\"y\",\"showlegend\":false,\"xaxis\":\"x2\",\"y\":[286,267,236,339,324,354,316,374,433,408,439,473],\"yaxis\":\"y2\",\"type\":\"violin\"},{\"hovertemplate\":\"State/UT=HARYANA<br>Lit_rate=%{x}<br>RAPE=%{y}<extra></extra>\",\"legendgroup\":\"HARYANA\",\"marker\":{\"color\":\"#2CA02C\",\"symbol\":\"circle\"},\"mode\":\"markers\",\"name\":\"HARYANA\",\"orientation\":\"v\",\"showlegend\":true,\"x\":[67.91,68.86,69.82,70.79,71.78,72.78,73.79,74.82,75.86,76.92,78.03,80.7],\"xaxis\":\"x\",\"y\":[398,361,353,386,461,608,488,631,603,720,733,668],\"yaxis\":\"y\",\"type\":\"scatter\"},{\"alignmentgroup\":\"True\",\"hovertemplate\":\"State/UT=HARYANA<br>Lit_rate=%{x}<extra></extra>\",\"legendgroup\":\"HARYANA\",\"marker\":{\"color\":\"#2CA02C\",\"symbol\":\"circle\"},\"name\":\"HARYANA\",\"notched\":true,\"offsetgroup\":\"HARYANA\",\"showlegend\":false,\"x\":[67.91,68.86,69.82,70.79,71.78,72.78,73.79,74.82,75.86,76.92,78.03,80.7],\"xaxis\":\"x3\",\"yaxis\":\"y3\",\"type\":\"box\"},{\"alignmentgroup\":\"True\",\"hovertemplate\":\"State/UT=HARYANA<br>RAPE=%{y}<extra></extra>\",\"legendgroup\":\"HARYANA\",\"marker\":{\"color\":\"#2CA02C\",\"symbol\":\"circle\"},\"name\":\"HARYANA\",\"offsetgroup\":\"HARYANA\",\"scalegroup\":\"y\",\"showlegend\":false,\"xaxis\":\"x2\",\"y\":[398,361,353,386,461,608,488,631,603,720,733,668],\"yaxis\":\"y2\",\"type\":\"violin\"},{\"hovertemplate\":\"State/UT=HIMACHAL PRADESH<br>Lit_rate=%{x}<br>RAPE=%{y}<extra></extra>\",\"legendgroup\":\"HIMACHAL PRADESH\",\"marker\":{\"color\":\"#D62728\",\"symbol\":\"circle\"},\"mode\":\"markers\",\"name\":\"HIMACHAL PRADESH\",\"orientation\":\"v\",\"showlegend\":true,\"x\":[76.48,76.38,76.28,76.18,76.08,75.98,75.88,75.78,75.68,75.58,75.55,75.48],\"xaxis\":\"x\",\"y\":[124,137,126,153,141,113,159,157,183,160,168,183],\"yaxis\":\"y\",\"type\":\"scatter\"},{\"alignmentgroup\":\"True\",\"hovertemplate\":\"State/UT=HIMACHAL PRADESH<br>Lit_rate=%{x}<extra></extra>\",\"legendgroup\":\"HIMACHAL PRADESH\",\"marker\":{\"color\":\"#D62728\",\"symbol\":\"circle\"},\"name\":\"HIMACHAL PRADESH\",\"notched\":true,\"offsetgroup\":\"HIMACHAL PRADESH\",\"showlegend\":false,\"x\":[76.48,76.38,76.28,76.18,76.08,75.98,75.88,75.78,75.68,75.58,75.55,75.48],\"xaxis\":\"x3\",\"yaxis\":\"y3\",\"type\":\"box\"},{\"alignmentgroup\":\"True\",\"hovertemplate\":\"State/UT=HIMACHAL PRADESH<br>RAPE=%{y}<extra></extra>\",\"legendgroup\":\"HIMACHAL PRADESH\",\"marker\":{\"color\":\"#D62728\",\"symbol\":\"circle\"},\"name\":\"HIMACHAL PRADESH\",\"offsetgroup\":\"HIMACHAL PRADESH\",\"scalegroup\":\"y\",\"showlegend\":false,\"xaxis\":\"x2\",\"y\":[124,137,126,153,141,113,159,157,183,160,168,183],\"yaxis\":\"y2\",\"type\":\"violin\"},{\"hovertemplate\":\"State/UT=JAMMU & KASHMIR<br>Lit_rate=%{x}<br>RAPE=%{y}<extra></extra>\",\"legendgroup\":\"JAMMU & KASHMIR\",\"marker\":{\"color\":\"#9467BD\",\"symbol\":\"circle\"},\"mode\":\"markers\",\"name\":\"JAMMU & KASHMIR\",\"orientation\":\"v\",\"showlegend\":true,\"x\":[55.52,57.74,60.04,62.44,64.93,67.52,70.2,73.0,75.92,78.95,82.8,83.5],\"xaxis\":\"x\",\"y\":[169,192,211,218,201,250,288,219,237,245,277,303],\"yaxis\":\"y\",\"type\":\"scatter\"},{\"alignmentgroup\":\"True\",\"hovertemplate\":\"State/UT=JAMMU & KASHMIR<br>Lit_rate=%{x}<extra></extra>\",\"legendgroup\":\"JAMMU & KASHMIR\",\"marker\":{\"color\":\"#9467BD\",\"symbol\":\"circle\"},\"name\":\"JAMMU & KASHMIR\",\"notched\":true,\"offsetgroup\":\"JAMMU & KASHMIR\",\"showlegend\":false,\"x\":[55.52,57.74,60.04,62.44,64.93,67.52,70.2,73.0,75.92,78.95,82.8,83.5],\"xaxis\":\"x3\",\"yaxis\":\"y3\",\"type\":\"box\"},{\"alignmentgroup\":\"True\",\"hovertemplate\":\"State/UT=JAMMU & KASHMIR<br>RAPE=%{y}<extra></extra>\",\"legendgroup\":\"JAMMU & KASHMIR\",\"marker\":{\"color\":\"#9467BD\",\"symbol\":\"circle\"},\"name\":\"JAMMU & KASHMIR\",\"offsetgroup\":\"JAMMU & KASHMIR\",\"scalegroup\":\"y\",\"showlegend\":false,\"xaxis\":\"x2\",\"y\":[169,192,211,218,201,250,288,219,237,245,277,303],\"yaxis\":\"y2\",\"type\":\"violin\"},{\"hovertemplate\":\"State/UT=JHARKHAND<br>Lit_rate=%{x}<br>RAPE=%{y}<extra></extra>\",\"legendgroup\":\"JHARKHAND\",\"marker\":{\"color\":\"#8C564B\",\"symbol\":\"circle\"},\"mode\":\"markers\",\"name\":\"JHARKHAND\",\"orientation\":\"v\",\"showlegend\":true,\"x\":[53.56,54.79,56.05,57.33,58.64,59.98,61.35,62.76,64.2,65.67,67.16,69.2],\"xaxis\":\"x\",\"y\":[567,797,712,797,753,799,855,791,719,773,784,812],\"yaxis\":\"y\",\"type\":\"scatter\"},{\"alignmentgroup\":\"True\",\"hovertemplate\":\"State/UT=JHARKHAND<br>Lit_rate=%{x}<extra></extra>\",\"legendgroup\":\"JHARKHAND\",\"marker\":{\"color\":\"#8C564B\",\"symbol\":\"circle\"},\"name\":\"JHARKHAND\",\"notched\":true,\"offsetgroup\":\"JHARKHAND\",\"showlegend\":false,\"x\":[53.56,54.79,56.05,57.33,58.64,59.98,61.35,62.76,64.2,65.67,67.16,69.2],\"xaxis\":\"x3\",\"yaxis\":\"y3\",\"type\":\"box\"},{\"alignmentgroup\":\"True\",\"hovertemplate\":\"State/UT=JHARKHAND<br>RAPE=%{y}<extra></extra>\",\"legendgroup\":\"JHARKHAND\",\"marker\":{\"color\":\"#8C564B\",\"symbol\":\"circle\"},\"name\":\"JHARKHAND\",\"offsetgroup\":\"JHARKHAND\",\"scalegroup\":\"y\",\"showlegend\":false,\"xaxis\":\"x2\",\"y\":[567,797,712,797,753,799,855,791,719,773,784,812],\"yaxis\":\"y2\",\"type\":\"violin\"},{\"hovertemplate\":\"State/UT=KARNATAKA<br>Lit_rate=%{x}<br>RAPE=%{y}<extra></extra>\",\"legendgroup\":\"KARNATAKA\",\"marker\":{\"color\":\"#E377C2\",\"symbol\":\"circle\"},\"mode\":\"markers\",\"name\":\"KARNATAKA\",\"orientation\":\"v\",\"showlegend\":true,\"x\":[66.06,66.09,66.12,66.15,66.18,66.21,66.24,66.27,66.3,66.33,66.41,66.55],\"xaxis\":\"x\",\"y\":[293,292,321,291,343,400,436,446,509,586,636,621],\"yaxis\":\"y\",\"type\":\"scatter\"},{\"alignmentgroup\":\"True\",\"hovertemplate\":\"State/UT=KARNATAKA<br>Lit_rate=%{x}<extra></extra>\",\"legendgroup\":\"KARNATAKA\",\"marker\":{\"color\":\"#E377C2\",\"symbol\":\"circle\"},\"name\":\"KARNATAKA\",\"notched\":true,\"offsetgroup\":\"KARNATAKA\",\"showlegend\":false,\"x\":[66.06,66.09,66.12,66.15,66.18,66.21,66.24,66.27,66.3,66.33,66.41,66.55],\"xaxis\":\"x3\",\"yaxis\":\"y3\",\"type\":\"box\"},{\"alignmentgroup\":\"True\",\"hovertemplate\":\"State/UT=KARNATAKA<br>RAPE=%{y}<extra></extra>\",\"legendgroup\":\"KARNATAKA\",\"marker\":{\"color\":\"#E377C2\",\"symbol\":\"circle\"},\"name\":\"KARNATAKA\",\"offsetgroup\":\"KARNATAKA\",\"scalegroup\":\"y\",\"showlegend\":false,\"xaxis\":\"x2\",\"y\":[293,292,321,291,343,400,436,446,509,586,636,621],\"yaxis\":\"y2\",\"type\":\"violin\"},{\"hovertemplate\":\"State/UT=KERALA<br>Lit_rate=%{x}<br>RAPE=%{y}<extra></extra>\",\"legendgroup\":\"KERALA\",\"marker\":{\"color\":\"#7F7F7F\",\"symbol\":\"circle\"},\"mode\":\"markers\",\"name\":\"KERALA\",\"orientation\":\"v\",\"showlegend\":true,\"x\":[90.86,91.22,91.58,91.58,92.3,92.67,92.97,93.34,93.71,94.08,94.0,94.5],\"xaxis\":\"x\",\"y\":[562,499,394,480,478,601,512,568,568,634,1132,1019],\"yaxis\":\"y\",\"type\":\"scatter\"},{\"alignmentgroup\":\"True\",\"hovertemplate\":\"State/UT=KERALA<br>Lit_rate=%{x}<extra></extra>\",\"legendgroup\":\"KERALA\",\"marker\":{\"color\":\"#7F7F7F\",\"symbol\":\"circle\"},\"name\":\"KERALA\",\"notched\":true,\"offsetgroup\":\"KERALA\",\"showlegend\":false,\"x\":[90.86,91.22,91.58,91.58,92.3,92.67,92.97,93.34,93.71,94.08,94.0,94.5],\"xaxis\":\"x3\",\"yaxis\":\"y3\",\"type\":\"box\"},{\"alignmentgroup\":\"True\",\"hovertemplate\":\"State/UT=KERALA<br>RAPE=%{y}<extra></extra>\",\"legendgroup\":\"KERALA\",\"marker\":{\"color\":\"#7F7F7F\",\"symbol\":\"circle\"},\"name\":\"KERALA\",\"offsetgroup\":\"KERALA\",\"scalegroup\":\"y\",\"showlegend\":false,\"xaxis\":\"x2\",\"y\":[562,499,394,480,478,601,512,568,568,634,1132,1019],\"yaxis\":\"y2\",\"type\":\"violin\"},{\"hovertemplate\":\"State/UT=LAKSHADWEEP<br>Lit_rate=%{x}<br>RAPE=%{y}<extra></extra>\",\"legendgroup\":\"LAKSHADWEEP\",\"marker\":{\"color\":\"#BCBD22\",\"symbol\":\"circle\"},\"mode\":\"markers\",\"name\":\"LAKSHADWEEP\",\"orientation\":\"v\",\"showlegend\":true,\"x\":[86.66,87.39,88.13,88.87,89.62,90.38,91.14,91.91,92.69,93.47,94.0,94.2],\"xaxis\":\"x\",\"y\":[0,1,2,0,0,0,1,2,1,0,0,0],\"yaxis\":\"y\",\"type\":\"scatter\"},{\"alignmentgroup\":\"True\",\"hovertemplate\":\"State/UT=LAKSHADWEEP<br>Lit_rate=%{x}<extra></extra>\",\"legendgroup\":\"LAKSHADWEEP\",\"marker\":{\"color\":\"#BCBD22\",\"symbol\":\"circle\"},\"name\":\"LAKSHADWEEP\",\"notched\":true,\"offsetgroup\":\"LAKSHADWEEP\",\"showlegend\":false,\"x\":[86.66,87.39,88.13,88.87,89.62,90.38,91.14,91.91,92.69,93.47,94.0,94.2],\"xaxis\":\"x3\",\"yaxis\":\"y3\",\"type\":\"box\"},{\"alignmentgroup\":\"True\",\"hovertemplate\":\"State/UT=LAKSHADWEEP<br>RAPE=%{y}<extra></extra>\",\"legendgroup\":\"LAKSHADWEEP\",\"marker\":{\"color\":\"#BCBD22\",\"symbol\":\"circle\"},\"name\":\"LAKSHADWEEP\",\"offsetgroup\":\"LAKSHADWEEP\",\"scalegroup\":\"y\",\"showlegend\":false,\"xaxis\":\"x2\",\"y\":[0,1,2,0,0,0,1,2,1,0,0,0],\"yaxis\":\"y2\",\"type\":\"violin\"},{\"hovertemplate\":\"State/UT=MADHYA PRADESH<br>Lit_rate=%{x}<br>RAPE=%{y}<extra></extra>\",\"legendgroup\":\"MADHYA PRADESH\",\"marker\":{\"color\":\"#17BECF\",\"symbol\":\"circle\"},\"mode\":\"markers\",\"name\":\"MADHYA PRADESH\",\"orientation\":\"v\",\"showlegend\":true,\"x\":[63.74,66.09,68.53,71.06,73.68,76.4,79.2,82.13,85.16,88.31,91.85,93.1],\"xaxis\":\"x\",\"y\":[2851,2891,2738,2875,2921,2900,3010,2937,2998,3135,3406,3425],\"yaxis\":\"y\",\"type\":\"scatter\"},{\"alignmentgroup\":\"True\",\"hovertemplate\":\"State/UT=MADHYA PRADESH<br>Lit_rate=%{x}<extra></extra>\",\"legendgroup\":\"MADHYA PRADESH\",\"marker\":{\"color\":\"#17BECF\",\"symbol\":\"circle\"},\"name\":\"MADHYA PRADESH\",\"notched\":true,\"offsetgroup\":\"MADHYA PRADESH\",\"showlegend\":false,\"x\":[63.74,66.09,68.53,71.06,73.68,76.4,79.2,82.13,85.16,88.31,91.85,93.1],\"xaxis\":\"x3\",\"yaxis\":\"y3\",\"type\":\"box\"},{\"alignmentgroup\":\"True\",\"hovertemplate\":\"State/UT=MADHYA PRADESH<br>RAPE=%{y}<extra></extra>\",\"legendgroup\":\"MADHYA PRADESH\",\"marker\":{\"color\":\"#17BECF\",\"symbol\":\"circle\"},\"name\":\"MADHYA PRADESH\",\"offsetgroup\":\"MADHYA PRADESH\",\"scalegroup\":\"y\",\"showlegend\":false,\"xaxis\":\"x2\",\"y\":[2851,2891,2738,2875,2921,2900,3010,2937,2998,3135,3406,3425],\"yaxis\":\"y2\",\"type\":\"violin\"},{\"hovertemplate\":\"State/UT=MAHARASHTRA<br>Lit_rate=%{x}<br>RAPE=%{y}<extra></extra>\",\"legendgroup\":\"MAHARASHTRA\",\"marker\":{\"color\":\"#1F77B4\",\"symbol\":\"circle\"},\"mode\":\"markers\",\"name\":\"MAHARASHTRA\",\"orientation\":\"v\",\"showlegend\":true,\"x\":[76.84,77.37,77.91,78.45,78.99,79.54,80.09,80.65,81.21,81.77,82.34,82.88],\"xaxis\":\"x\",\"y\":[1302,1352,1268,1388,1545,1500,1451,1558,1483,1599,1701,1839],\"yaxis\":\"y\",\"type\":\"scatter\"},{\"alignmentgroup\":\"True\",\"hovertemplate\":\"State/UT=MAHARASHTRA<br>Lit_rate=%{x}<extra></extra>\",\"legendgroup\":\"MAHARASHTRA\",\"marker\":{\"color\":\"#1F77B4\",\"symbol\":\"circle\"},\"name\":\"MAHARASHTRA\",\"notched\":true,\"offsetgroup\":\"MAHARASHTRA\",\"showlegend\":false,\"x\":[76.84,77.37,77.91,78.45,78.99,79.54,80.09,80.65,81.21,81.77,82.34,82.88],\"xaxis\":\"x3\",\"yaxis\":\"y3\",\"type\":\"box\"},{\"alignmentgroup\":\"True\",\"hovertemplate\":\"State/UT=MAHARASHTRA<br>RAPE=%{y}<extra></extra>\",\"legendgroup\":\"MAHARASHTRA\",\"marker\":{\"color\":\"#1F77B4\",\"symbol\":\"circle\"},\"name\":\"MAHARASHTRA\",\"offsetgroup\":\"MAHARASHTRA\",\"scalegroup\":\"y\",\"showlegend\":false,\"xaxis\":\"x2\",\"y\":[1302,1352,1268,1388,1545,1500,1451,1558,1483,1599,1701,1839],\"yaxis\":\"y2\",\"type\":\"violin\"},{\"hovertemplate\":\"State/UT=MANIPUR<br>Lit_rate=%{x}<br>RAPE=%{y}<extra></extra>\",\"legendgroup\":\"MANIPUR\",\"marker\":{\"color\":\"#FF7F0E\",\"symbol\":\"circle\"},\"mode\":\"markers\",\"name\":\"MANIPUR\",\"orientation\":\"v\",\"showlegend\":true,\"x\":[70.5,71.17,71.85,72.54,73.23,73.93,74.63,75.34,76.06,76.79,76.94,77.06],\"xaxis\":\"x\",\"y\":[20,14,18,31,25,40,20,38,31,34,53,63],\"yaxis\":\"y\",\"type\":\"scatter\"},{\"alignmentgroup\":\"True\",\"hovertemplate\":\"State/UT=MANIPUR<br>Lit_rate=%{x}<extra></extra>\",\"legendgroup\":\"MANIPUR\",\"marker\":{\"color\":\"#FF7F0E\",\"symbol\":\"circle\"},\"name\":\"MANIPUR\",\"notched\":true,\"offsetgroup\":\"MANIPUR\",\"showlegend\":false,\"x\":[70.5,71.17,71.85,72.54,73.23,73.93,74.63,75.34,76.06,76.79,76.94,77.06],\"xaxis\":\"x3\",\"yaxis\":\"y3\",\"type\":\"box\"},{\"alignmentgroup\":\"True\",\"hovertemplate\":\"State/UT=MANIPUR<br>RAPE=%{y}<extra></extra>\",\"legendgroup\":\"MANIPUR\",\"marker\":{\"color\":\"#FF7F0E\",\"symbol\":\"circle\"},\"name\":\"MANIPUR\",\"offsetgroup\":\"MANIPUR\",\"scalegroup\":\"y\",\"showlegend\":false,\"xaxis\":\"x2\",\"y\":[20,14,18,31,25,40,20,38,31,34,53,63],\"yaxis\":\"y2\",\"type\":\"violin\"},{\"hovertemplate\":\"State/UT=MEGHALAYA<br>Lit_rate=%{x}<br>RAPE=%{y}<extra></extra>\",\"legendgroup\":\"MEGHALAYA\",\"marker\":{\"color\":\"#2CA02C\",\"symbol\":\"circle\"},\"mode\":\"markers\",\"name\":\"MEGHALAYA\",\"orientation\":\"v\",\"showlegend\":true,\"x\":[62.56,63.62,64.7,65.79,66.9,68.03,69.18,70.35,71.54,72.75,74.43,74.84],\"xaxis\":\"x\",\"y\":[26,38,40,54,63,74,82,88,112,149,130,164],\"yaxis\":\"y\",\"type\":\"scatter\"},{\"alignmentgroup\":\"True\",\"hovertemplate\":\"State/UT=MEGHALAYA<br>Lit_rate=%{x}<extra></extra>\",\"legendgroup\":\"MEGHALAYA\",\"marker\":{\"color\":\"#2CA02C\",\"symbol\":\"circle\"},\"name\":\"MEGHALAYA\",\"notched\":true,\"offsetgroup\":\"MEGHALAYA\",\"showlegend\":false,\"x\":[62.56,63.62,64.7,65.79,66.9,68.03,69.18,70.35,71.54,72.75,74.43,74.84],\"xaxis\":\"x3\",\"yaxis\":\"y3\",\"type\":\"box\"},{\"alignmentgroup\":\"True\",\"hovertemplate\":\"State/UT=MEGHALAYA<br>RAPE=%{y}<extra></extra>\",\"legendgroup\":\"MEGHALAYA\",\"marker\":{\"color\":\"#2CA02C\",\"symbol\":\"circle\"},\"name\":\"MEGHALAYA\",\"offsetgroup\":\"MEGHALAYA\",\"scalegroup\":\"y\",\"showlegend\":false,\"xaxis\":\"x2\",\"y\":[26,38,40,54,63,74,82,88,112,149,130,164],\"yaxis\":\"y2\",\"type\":\"violin\"},{\"hovertemplate\":\"State/UT=MIZORAM<br>Lit_rate=%{x}<br>RAPE=%{y}<extra></extra>\",\"legendgroup\":\"MIZORAM\",\"marker\":{\"color\":\"#D62728\",\"symbol\":\"circle\"},\"mode\":\"markers\",\"name\":\"MIZORAM\",\"orientation\":\"v\",\"showlegend\":true,\"x\":[88.8,89.05,89.3,89.55,89.8,90.06,90.32,90.58,90.84,91.1,91.33,91.66],\"xaxis\":\"x\",\"y\":[52,76,54,20,37,72,83,77,83,92,77,103],\"yaxis\":\"y\",\"type\":\"scatter\"},{\"alignmentgroup\":\"True\",\"hovertemplate\":\"State/UT=MIZORAM<br>Lit_rate=%{x}<extra></extra>\",\"legendgroup\":\"MIZORAM\",\"marker\":{\"color\":\"#D62728\",\"symbol\":\"circle\"},\"name\":\"MIZORAM\",\"notched\":true,\"offsetgroup\":\"MIZORAM\",\"showlegend\":false,\"x\":[88.8,89.05,89.3,89.55,89.8,90.06,90.32,90.58,90.84,91.1,91.33,91.66],\"xaxis\":\"x3\",\"yaxis\":\"y3\",\"type\":\"box\"},{\"alignmentgroup\":\"True\",\"hovertemplate\":\"State/UT=MIZORAM<br>RAPE=%{y}<extra></extra>\",\"legendgroup\":\"MIZORAM\",\"marker\":{\"color\":\"#D62728\",\"symbol\":\"circle\"},\"name\":\"MIZORAM\",\"offsetgroup\":\"MIZORAM\",\"scalegroup\":\"y\",\"showlegend\":false,\"xaxis\":\"x2\",\"y\":[52,76,54,20,37,72,83,77,83,92,77,103],\"yaxis\":\"y2\",\"type\":\"violin\"},{\"hovertemplate\":\"State/UT=NAGALAND<br>Lit_rate=%{x}<br>RAPE=%{y}<extra></extra>\",\"legendgroup\":\"NAGALAND\",\"marker\":{\"color\":\"#9467BD\",\"symbol\":\"circle\"},\"mode\":\"markers\",\"name\":\"NAGALAND\",\"orientation\":\"v\",\"showlegend\":true,\"x\":[66.59,67.12,67.78,69.0,70.24,71.5,72.78,74.09,75.42,76.77,79.55,80.48],\"xaxis\":\"x\",\"y\":[17,17,14,18,17,23,13,19,22,16,23,21],\"yaxis\":\"y\",\"type\":\"scatter\"},{\"alignmentgroup\":\"True\",\"hovertemplate\":\"State/UT=NAGALAND<br>Lit_rate=%{x}<extra></extra>\",\"legendgroup\":\"NAGALAND\",\"marker\":{\"color\":\"#9467BD\",\"symbol\":\"circle\"},\"name\":\"NAGALAND\",\"notched\":true,\"offsetgroup\":\"NAGALAND\",\"showlegend\":false,\"x\":[66.59,67.12,67.78,69.0,70.24,71.5,72.78,74.09,75.42,76.77,79.55,80.48],\"xaxis\":\"x3\",\"yaxis\":\"y3\",\"type\":\"box\"},{\"alignmentgroup\":\"True\",\"hovertemplate\":\"State/UT=NAGALAND<br>RAPE=%{y}<extra></extra>\",\"legendgroup\":\"NAGALAND\",\"marker\":{\"color\":\"#9467BD\",\"symbol\":\"circle\"},\"name\":\"NAGALAND\",\"offsetgroup\":\"NAGALAND\",\"scalegroup\":\"y\",\"showlegend\":false,\"xaxis\":\"x2\",\"y\":[17,17,14,18,17,23,13,19,22,16,23,21],\"yaxis\":\"y2\",\"type\":\"violin\"},{\"hovertemplate\":\"State/UT=ODISHA<br>Lit_rate=%{x}<br>RAPE=%{y}<extra></extra>\",\"legendgroup\":\"ODISHA\",\"marker\":{\"color\":\"#8C564B\",\"symbol\":\"circle\"},\"mode\":\"markers\",\"name\":\"ODISHA\",\"orientation\":\"v\",\"showlegend\":true,\"x\":[63.08,64.05,65.04,66.04,67.06,68.09,69.14,70.21,71.2,72.3,72.87,73.15],\"xaxis\":\"x\",\"y\":[790,691,725,770,799,985,939,1113,1023,1025,1112,1458],\"yaxis\":\"y\",\"type\":\"scatter\"},{\"alignmentgroup\":\"True\",\"hovertemplate\":\"State/UT=ODISHA<br>Lit_rate=%{x}<extra></extra>\",\"legendgroup\":\"ODISHA\",\"marker\":{\"color\":\"#8C564B\",\"symbol\":\"circle\"},\"name\":\"ODISHA\",\"notched\":true,\"offsetgroup\":\"ODISHA\",\"showlegend\":false,\"x\":[63.08,64.05,65.04,66.04,67.06,68.09,69.14,70.21,71.2,72.3,72.87,73.15],\"xaxis\":\"x3\",\"yaxis\":\"y3\",\"type\":\"box\"},{\"alignmentgroup\":\"True\",\"hovertemplate\":\"State/UT=ODISHA<br>RAPE=%{y}<extra></extra>\",\"legendgroup\":\"ODISHA\",\"marker\":{\"color\":\"#8C564B\",\"symbol\":\"circle\"},\"name\":\"ODISHA\",\"offsetgroup\":\"ODISHA\",\"scalegroup\":\"y\",\"showlegend\":false,\"xaxis\":\"x2\",\"y\":[790,691,725,770,799,985,939,1113,1023,1025,1112,1458],\"yaxis\":\"y2\",\"type\":\"violin\"},{\"hovertemplate\":\"State/UT=PUDUCHERRY<br>Lit_rate=%{x}<br>RAPE=%{y}<extra></extra>\",\"legendgroup\":\"PUDUCHERRY\",\"marker\":{\"color\":\"#E377C2\",\"symbol\":\"circle\"},\"mode\":\"markers\",\"name\":\"PUDUCHERRY\",\"orientation\":\"v\",\"showlegend\":true,\"x\":[81.24,81.68,82.12,82.57,83.02,83.47,83.92,84.38,84.84,85.3,85.85,86.1],\"xaxis\":\"x\",\"y\":[9,6,2,4,6,9,9,8,1,3,7,13],\"yaxis\":\"y\",\"type\":\"scatter\"},{\"alignmentgroup\":\"True\",\"hovertemplate\":\"State/UT=PUDUCHERRY<br>Lit_rate=%{x}<extra></extra>\",\"legendgroup\":\"PUDUCHERRY\",\"marker\":{\"color\":\"#E377C2\",\"symbol\":\"circle\"},\"name\":\"PUDUCHERRY\",\"notched\":true,\"offsetgroup\":\"PUDUCHERRY\",\"showlegend\":false,\"x\":[81.24,81.68,82.12,82.57,83.02,83.47,83.92,84.38,84.84,85.3,85.85,86.1],\"xaxis\":\"x3\",\"yaxis\":\"y3\",\"type\":\"box\"},{\"alignmentgroup\":\"True\",\"hovertemplate\":\"State/UT=PUDUCHERRY<br>RAPE=%{y}<extra></extra>\",\"legendgroup\":\"PUDUCHERRY\",\"marker\":{\"color\":\"#E377C2\",\"symbol\":\"circle\"},\"name\":\"PUDUCHERRY\",\"offsetgroup\":\"PUDUCHERRY\",\"scalegroup\":\"y\",\"showlegend\":false,\"xaxis\":\"x2\",\"y\":[9,6,2,4,6,9,9,8,1,3,7,13],\"yaxis\":\"y2\",\"type\":\"violin\"},{\"hovertemplate\":\"State/UT=PUNJAB<br>Lit_rate=%{x}<br>RAPE=%{y}<extra></extra>\",\"legendgroup\":\"PUNJAB\",\"marker\":{\"color\":\"#7F7F7F\",\"symbol\":\"circle\"},\"mode\":\"markers\",\"name\":\"PUNJAB\",\"orientation\":\"v\",\"showlegend\":true,\"x\":[69.65,70.24,70.83,71.43,72.03,72.64,73.25,73.87,74.49,75.12,75.84,76.11],\"xaxis\":\"x\",\"y\":[298,299,380,390,398,442,519,517,511,546,479,680],\"yaxis\":\"y\",\"type\":\"scatter\"},{\"alignmentgroup\":\"True\",\"hovertemplate\":\"State/UT=PUNJAB<br>Lit_rate=%{x}<extra></extra>\",\"legendgroup\":\"PUNJAB\",\"marker\":{\"color\":\"#7F7F7F\",\"symbol\":\"circle\"},\"name\":\"PUNJAB\",\"notched\":true,\"offsetgroup\":\"PUNJAB\",\"showlegend\":false,\"x\":[69.65,70.24,70.83,71.43,72.03,72.64,73.25,73.87,74.49,75.12,75.84,76.11],\"xaxis\":\"x3\",\"yaxis\":\"y3\",\"type\":\"box\"},{\"alignmentgroup\":\"True\",\"hovertemplate\":\"State/UT=PUNJAB<br>RAPE=%{y}<extra></extra>\",\"legendgroup\":\"PUNJAB\",\"marker\":{\"color\":\"#7F7F7F\",\"symbol\":\"circle\"},\"name\":\"PUNJAB\",\"offsetgroup\":\"PUNJAB\",\"scalegroup\":\"y\",\"showlegend\":false,\"xaxis\":\"x2\",\"y\":[298,299,380,390,398,442,519,517,511,546,479,680],\"yaxis\":\"y2\",\"type\":\"violin\"},{\"hovertemplate\":\"State/UT=RAJASTHAN<br>Lit_rate=%{x}<br>RAPE=%{y}<extra></extra>\",\"legendgroup\":\"RAJASTHAN\",\"marker\":{\"color\":\"#BCBD22\",\"symbol\":\"circle\"},\"mode\":\"markers\",\"name\":\"RAJASTHAN\",\"orientation\":\"v\",\"showlegend\":true,\"x\":[60.41,60.97,61.53,62.1,62.67,63.25,63.83,64.42,65.01,65.61,66.11,66.76],\"xaxis\":\"x\",\"y\":[1049,1051,1050,1038,993,1085,1238,1355,1519,1571,1800,2049],\"yaxis\":\"y\",\"type\":\"scatter\"},{\"alignmentgroup\":\"True\",\"hovertemplate\":\"State/UT=RAJASTHAN<br>Lit_rate=%{x}<extra></extra>\",\"legendgroup\":\"RAJASTHAN\",\"marker\":{\"color\":\"#BCBD22\",\"symbol\":\"circle\"},\"name\":\"RAJASTHAN\",\"notched\":true,\"offsetgroup\":\"RAJASTHAN\",\"showlegend\":false,\"x\":[60.41,60.97,61.53,62.1,62.67,63.25,63.83,64.42,65.01,65.61,66.11,66.76],\"xaxis\":\"x3\",\"yaxis\":\"y3\",\"type\":\"box\"},{\"alignmentgroup\":\"True\",\"hovertemplate\":\"State/UT=RAJASTHAN<br>RAPE=%{y}<extra></extra>\",\"legendgroup\":\"RAJASTHAN\",\"marker\":{\"color\":\"#BCBD22\",\"symbol\":\"circle\"},\"name\":\"RAJASTHAN\",\"offsetgroup\":\"RAJASTHAN\",\"scalegroup\":\"y\",\"showlegend\":false,\"xaxis\":\"x2\",\"y\":[1049,1051,1050,1038,993,1085,1238,1355,1519,1571,1800,2049],\"yaxis\":\"y2\",\"type\":\"violin\"},{\"hovertemplate\":\"State/UT=SIKKIM<br>Lit_rate=%{x}<br>RAPE=%{y}<extra></extra>\",\"legendgroup\":\"SIKKIM\",\"marker\":{\"color\":\"#17BECF\",\"symbol\":\"circle\"},\"mode\":\"markers\",\"name\":\"SIKKIM\",\"orientation\":\"v\",\"showlegend\":true,\"x\":[68.81,68.13,69.47,70.84,72.24,73.67,75.12,76.6,78.11,79.65,81.42,81.42],\"xaxis\":\"x\",\"y\":[8,6,10,3,18,20,24,20,18,18,16,34],\"yaxis\":\"y\",\"type\":\"scatter\"},{\"alignmentgroup\":\"True\",\"hovertemplate\":\"State/UT=SIKKIM<br>Lit_rate=%{x}<extra></extra>\",\"legendgroup\":\"SIKKIM\",\"marker\":{\"color\":\"#17BECF\",\"symbol\":\"circle\"},\"name\":\"SIKKIM\",\"notched\":true,\"offsetgroup\":\"SIKKIM\",\"showlegend\":false,\"x\":[68.81,68.13,69.47,70.84,72.24,73.67,75.12,76.6,78.11,79.65,81.42,81.42],\"xaxis\":\"x3\",\"yaxis\":\"y3\",\"type\":\"box\"},{\"alignmentgroup\":\"True\",\"hovertemplate\":\"State/UT=SIKKIM<br>RAPE=%{y}<extra></extra>\",\"legendgroup\":\"SIKKIM\",\"marker\":{\"color\":\"#17BECF\",\"symbol\":\"circle\"},\"name\":\"SIKKIM\",\"offsetgroup\":\"SIKKIM\",\"scalegroup\":\"y\",\"showlegend\":false,\"xaxis\":\"x2\",\"y\":[8,6,10,3,18,20,24,20,18,18,16,34],\"yaxis\":\"y2\",\"type\":\"violin\"},{\"hovertemplate\":\"State/UT=TAMIL NADU<br>Lit_rate=%{x}<br>RAPE=%{y}<extra></extra>\",\"legendgroup\":\"TAMIL NADU\",\"marker\":{\"color\":\"#1F77B4\",\"symbol\":\"circle\"},\"mode\":\"markers\",\"name\":\"TAMIL NADU\",\"orientation\":\"v\",\"showlegend\":true,\"x\":[73.45,74.11,74.77,75.44,76.11,76.79,77.48,78.17,78.87,79.57,80.33,80.88],\"xaxis\":\"x\",\"y\":[423,534,557,618,571,457,523,573,596,686,677,737],\"yaxis\":\"y\",\"type\":\"scatter\"},{\"alignmentgroup\":\"True\",\"hovertemplate\":\"State/UT=TAMIL NADU<br>Lit_rate=%{x}<extra></extra>\",\"legendgroup\":\"TAMIL NADU\",\"marker\":{\"color\":\"#1F77B4\",\"symbol\":\"circle\"},\"name\":\"TAMIL NADU\",\"notched\":true,\"offsetgroup\":\"TAMIL NADU\",\"showlegend\":false,\"x\":[73.45,74.11,74.77,75.44,76.11,76.79,77.48,78.17,78.87,79.57,80.33,80.88],\"xaxis\":\"x3\",\"yaxis\":\"y3\",\"type\":\"box\"},{\"alignmentgroup\":\"True\",\"hovertemplate\":\"State/UT=TAMIL NADU<br>RAPE=%{y}<extra></extra>\",\"legendgroup\":\"TAMIL NADU\",\"marker\":{\"color\":\"#1F77B4\",\"symbol\":\"circle\"},\"name\":\"TAMIL NADU\",\"offsetgroup\":\"TAMIL NADU\",\"scalegroup\":\"y\",\"showlegend\":false,\"xaxis\":\"x2\",\"y\":[423,534,557,618,571,457,523,573,596,686,677,737],\"yaxis\":\"y2\",\"type\":\"violin\"},{\"hovertemplate\":\"State/UT=TRIPURA<br>Lit_rate=%{x}<br>RAPE=%{y}<extra></extra>\",\"legendgroup\":\"TRIPURA\",\"marker\":{\"color\":\"#FF7F0E\",\"symbol\":\"circle\"},\"mode\":\"markers\",\"name\":\"TRIPURA\",\"orientation\":\"v\",\"showlegend\":true,\"x\":[73.19,73.84,74.5,75.17,75.84,76.52,77.2,77.89,78.59,79.29,80.09,80.89],\"xaxis\":\"x\",\"y\":[102,108,114,160,162,189,157,204,190,238,205,229],\"yaxis\":\"y\",\"type\":\"scatter\"},{\"alignmentgroup\":\"True\",\"hovertemplate\":\"State/UT=TRIPURA<br>Lit_rate=%{x}<extra></extra>\",\"legendgroup\":\"TRIPURA\",\"marker\":{\"color\":\"#FF7F0E\",\"symbol\":\"circle\"},\"name\":\"TRIPURA\",\"notched\":true,\"offsetgroup\":\"TRIPURA\",\"showlegend\":false,\"x\":[73.19,73.84,74.5,75.17,75.84,76.52,77.2,77.89,78.59,79.29,80.09,80.89],\"xaxis\":\"x3\",\"yaxis\":\"y3\",\"type\":\"box\"},{\"alignmentgroup\":\"True\",\"hovertemplate\":\"State/UT=TRIPURA<br>RAPE=%{y}<extra></extra>\",\"legendgroup\":\"TRIPURA\",\"marker\":{\"color\":\"#FF7F0E\",\"symbol\":\"circle\"},\"name\":\"TRIPURA\",\"offsetgroup\":\"TRIPURA\",\"scalegroup\":\"y\",\"showlegend\":false,\"xaxis\":\"x2\",\"y\":[102,108,114,160,162,189,157,204,190,238,205,229],\"yaxis\":\"y2\",\"type\":\"violin\"},{\"hovertemplate\":\"State/UT=UTTAR PRADESH<br>Lit_rate=%{x}<br>RAPE=%{y}<extra></extra>\",\"legendgroup\":\"UTTAR PRADESH\",\"marker\":{\"color\":\"#2CA02C\",\"symbol\":\"circle\"},\"mode\":\"markers\",\"name\":\"UTTAR PRADESH\",\"orientation\":\"v\",\"showlegend\":true,\"x\":[56.27,57.28,58.31,59.35,60.42,61.5,62.6,63.72,64.86,66.02,67.68,67.98],\"xaxis\":\"x\",\"y\":[1958,1415,911,1397,1217,1314,1648,1871,1759,1563,2042,1963],\"yaxis\":\"y\",\"type\":\"scatter\"},{\"alignmentgroup\":\"True\",\"hovertemplate\":\"State/UT=UTTAR PRADESH<br>Lit_rate=%{x}<extra></extra>\",\"legendgroup\":\"UTTAR PRADESH\",\"marker\":{\"color\":\"#2CA02C\",\"symbol\":\"circle\"},\"name\":\"UTTAR PRADESH\",\"notched\":true,\"offsetgroup\":\"UTTAR PRADESH\",\"showlegend\":false,\"x\":[56.27,57.28,58.31,59.35,60.42,61.5,62.6,63.72,64.86,66.02,67.68,67.98],\"xaxis\":\"x3\",\"yaxis\":\"y3\",\"type\":\"box\"},{\"alignmentgroup\":\"True\",\"hovertemplate\":\"State/UT=UTTAR PRADESH<br>RAPE=%{y}<extra></extra>\",\"legendgroup\":\"UTTAR PRADESH\",\"marker\":{\"color\":\"#2CA02C\",\"symbol\":\"circle\"},\"name\":\"UTTAR PRADESH\",\"offsetgroup\":\"UTTAR PRADESH\",\"scalegroup\":\"y\",\"showlegend\":false,\"xaxis\":\"x2\",\"y\":[1958,1415,911,1397,1217,1314,1648,1871,1759,1563,2042,1963],\"yaxis\":\"y2\",\"type\":\"violin\"},{\"hovertemplate\":\"State/UT=UTTARAKHAND<br>Lit_rate=%{x}<br>RAPE=%{y}<extra></extra>\",\"legendgroup\":\"UTTARAKHAND\",\"marker\":{\"color\":\"#D62728\",\"symbol\":\"circle\"},\"mode\":\"markers\",\"name\":\"UTTARAKHAND\",\"orientation\":\"v\",\"showlegend\":true,\"x\":[71.62,72.26,72.91,73.56,74.22,74.88,75.55,76.22,76.9,77.59,78.82,79.22],\"xaxis\":\"x\",\"y\":[74,89,107,115,133,147,117,87,111,121,129,148],\"yaxis\":\"y\",\"type\":\"scatter\"},{\"alignmentgroup\":\"True\",\"hovertemplate\":\"State/UT=UTTARAKHAND<br>Lit_rate=%{x}<extra></extra>\",\"legendgroup\":\"UTTARAKHAND\",\"marker\":{\"color\":\"#D62728\",\"symbol\":\"circle\"},\"name\":\"UTTARAKHAND\",\"notched\":true,\"offsetgroup\":\"UTTARAKHAND\",\"showlegend\":false,\"x\":[71.62,72.26,72.91,73.56,74.22,74.88,75.55,76.22,76.9,77.59,78.82,79.22],\"xaxis\":\"x3\",\"yaxis\":\"y3\",\"type\":\"box\"},{\"alignmentgroup\":\"True\",\"hovertemplate\":\"State/UT=UTTARAKHAND<br>RAPE=%{y}<extra></extra>\",\"legendgroup\":\"UTTARAKHAND\",\"marker\":{\"color\":\"#D62728\",\"symbol\":\"circle\"},\"name\":\"UTTARAKHAND\",\"offsetgroup\":\"UTTARAKHAND\",\"scalegroup\":\"y\",\"showlegend\":false,\"xaxis\":\"x2\",\"y\":[74,89,107,115,133,147,117,87,111,121,129,148],\"yaxis\":\"y2\",\"type\":\"violin\"},{\"hovertemplate\":\"State/UT=WEST BENGAL<br>Lit_rate=%{x}<br>RAPE=%{y}<extra></extra>\",\"legendgroup\":\"WEST BENGAL\",\"marker\":{\"color\":\"#9467BD\",\"symbol\":\"circle\"},\"mode\":\"markers\",\"name\":\"WEST BENGAL\",\"orientation\":\"v\",\"showlegend\":true,\"x\":[68.64,69.39,70.15,70.92,71.7,72.48,73.27,74.07,74.88,75.7,76.26,76.88],\"xaxis\":\"x\",\"y\":[709,759,1002,1475,1686,1731,2106,2263,2336,2311,2363,2046],\"yaxis\":\"y\",\"type\":\"scatter\"},{\"alignmentgroup\":\"True\",\"hovertemplate\":\"State/UT=WEST BENGAL<br>Lit_rate=%{x}<extra></extra>\",\"legendgroup\":\"WEST BENGAL\",\"marker\":{\"color\":\"#9467BD\",\"symbol\":\"circle\"},\"name\":\"WEST BENGAL\",\"notched\":true,\"offsetgroup\":\"WEST BENGAL\",\"showlegend\":false,\"x\":[68.64,69.39,70.15,70.92,71.7,72.48,73.27,74.07,74.88,75.7,76.26,76.88],\"xaxis\":\"x3\",\"yaxis\":\"y3\",\"type\":\"box\"},{\"alignmentgroup\":\"True\",\"hovertemplate\":\"State/UT=WEST BENGAL<br>RAPE=%{y}<extra></extra>\",\"legendgroup\":\"WEST BENGAL\",\"marker\":{\"color\":\"#9467BD\",\"symbol\":\"circle\"},\"name\":\"WEST BENGAL\",\"offsetgroup\":\"WEST BENGAL\",\"scalegroup\":\"y\",\"showlegend\":false,\"xaxis\":\"x2\",\"y\":[709,759,1002,1475,1686,1731,2106,2263,2336,2311,2363,2046],\"yaxis\":\"y2\",\"type\":\"violin\"}],                        {\"template\":{\"data\":{\"barpolar\":[{\"marker\":{\"line\":{\"color\":\"white\",\"width\":0.5},\"pattern\":{\"fillmode\":\"overlay\",\"size\":10,\"solidity\":0.2}},\"type\":\"barpolar\"}],\"bar\":[{\"error_x\":{\"color\":\"rgb(36,36,36)\"},\"error_y\":{\"color\":\"rgb(36,36,36)\"},\"marker\":{\"line\":{\"color\":\"white\",\"width\":0.5},\"pattern\":{\"fillmode\":\"overlay\",\"size\":10,\"solidity\":0.2}},\"type\":\"bar\"}],\"carpet\":[{\"aaxis\":{\"endlinecolor\":\"rgb(36,36,36)\",\"gridcolor\":\"white\",\"linecolor\":\"white\",\"minorgridcolor\":\"white\",\"startlinecolor\":\"rgb(36,36,36)\"},\"baxis\":{\"endlinecolor\":\"rgb(36,36,36)\",\"gridcolor\":\"white\",\"linecolor\":\"white\",\"minorgridcolor\":\"white\",\"startlinecolor\":\"rgb(36,36,36)\"},\"type\":\"carpet\"}],\"choropleth\":[{\"colorbar\":{\"outlinewidth\":1,\"tickcolor\":\"rgb(36,36,36)\",\"ticks\":\"outside\"},\"type\":\"choropleth\"}],\"contourcarpet\":[{\"colorbar\":{\"outlinewidth\":1,\"tickcolor\":\"rgb(36,36,36)\",\"ticks\":\"outside\"},\"type\":\"contourcarpet\"}],\"contour\":[{\"colorbar\":{\"outlinewidth\":1,\"tickcolor\":\"rgb(36,36,36)\",\"ticks\":\"outside\"},\"colorscale\":[[0.0,\"#440154\"],[0.1111111111111111,\"#482878\"],[0.2222222222222222,\"#3e4989\"],[0.3333333333333333,\"#31688e\"],[0.4444444444444444,\"#26828e\"],[0.5555555555555556,\"#1f9e89\"],[0.6666666666666666,\"#35b779\"],[0.7777777777777778,\"#6ece58\"],[0.8888888888888888,\"#b5de2b\"],[1.0,\"#fde725\"]],\"type\":\"contour\"}],\"heatmapgl\":[{\"colorbar\":{\"outlinewidth\":1,\"tickcolor\":\"rgb(36,36,36)\",\"ticks\":\"outside\"},\"colorscale\":[[0.0,\"#440154\"],[0.1111111111111111,\"#482878\"],[0.2222222222222222,\"#3e4989\"],[0.3333333333333333,\"#31688e\"],[0.4444444444444444,\"#26828e\"],[0.5555555555555556,\"#1f9e89\"],[0.6666666666666666,\"#35b779\"],[0.7777777777777778,\"#6ece58\"],[0.8888888888888888,\"#b5de2b\"],[1.0,\"#fde725\"]],\"type\":\"heatmapgl\"}],\"heatmap\":[{\"colorbar\":{\"outlinewidth\":1,\"tickcolor\":\"rgb(36,36,36)\",\"ticks\":\"outside\"},\"colorscale\":[[0.0,\"#440154\"],[0.1111111111111111,\"#482878\"],[0.2222222222222222,\"#3e4989\"],[0.3333333333333333,\"#31688e\"],[0.4444444444444444,\"#26828e\"],[0.5555555555555556,\"#1f9e89\"],[0.6666666666666666,\"#35b779\"],[0.7777777777777778,\"#6ece58\"],[0.8888888888888888,\"#b5de2b\"],[1.0,\"#fde725\"]],\"type\":\"heatmap\"}],\"histogram2dcontour\":[{\"colorbar\":{\"outlinewidth\":1,\"tickcolor\":\"rgb(36,36,36)\",\"ticks\":\"outside\"},\"colorscale\":[[0.0,\"#440154\"],[0.1111111111111111,\"#482878\"],[0.2222222222222222,\"#3e4989\"],[0.3333333333333333,\"#31688e\"],[0.4444444444444444,\"#26828e\"],[0.5555555555555556,\"#1f9e89\"],[0.6666666666666666,\"#35b779\"],[0.7777777777777778,\"#6ece58\"],[0.8888888888888888,\"#b5de2b\"],[1.0,\"#fde725\"]],\"type\":\"histogram2dcontour\"}],\"histogram2d\":[{\"colorbar\":{\"outlinewidth\":1,\"tickcolor\":\"rgb(36,36,36)\",\"ticks\":\"outside\"},\"colorscale\":[[0.0,\"#440154\"],[0.1111111111111111,\"#482878\"],[0.2222222222222222,\"#3e4989\"],[0.3333333333333333,\"#31688e\"],[0.4444444444444444,\"#26828e\"],[0.5555555555555556,\"#1f9e89\"],[0.6666666666666666,\"#35b779\"],[0.7777777777777778,\"#6ece58\"],[0.8888888888888888,\"#b5de2b\"],[1.0,\"#fde725\"]],\"type\":\"histogram2d\"}],\"histogram\":[{\"marker\":{\"line\":{\"color\":\"white\",\"width\":0.6}},\"type\":\"histogram\"}],\"mesh3d\":[{\"colorbar\":{\"outlinewidth\":1,\"tickcolor\":\"rgb(36,36,36)\",\"ticks\":\"outside\"},\"type\":\"mesh3d\"}],\"parcoords\":[{\"line\":{\"colorbar\":{\"outlinewidth\":1,\"tickcolor\":\"rgb(36,36,36)\",\"ticks\":\"outside\"}},\"type\":\"parcoords\"}],\"pie\":[{\"automargin\":true,\"type\":\"pie\"}],\"scatter3d\":[{\"line\":{\"colorbar\":{\"outlinewidth\":1,\"tickcolor\":\"rgb(36,36,36)\",\"ticks\":\"outside\"}},\"marker\":{\"colorbar\":{\"outlinewidth\":1,\"tickcolor\":\"rgb(36,36,36)\",\"ticks\":\"outside\"}},\"type\":\"scatter3d\"}],\"scattercarpet\":[{\"marker\":{\"colorbar\":{\"outlinewidth\":1,\"tickcolor\":\"rgb(36,36,36)\",\"ticks\":\"outside\"}},\"type\":\"scattercarpet\"}],\"scattergeo\":[{\"marker\":{\"colorbar\":{\"outlinewidth\":1,\"tickcolor\":\"rgb(36,36,36)\",\"ticks\":\"outside\"}},\"type\":\"scattergeo\"}],\"scattergl\":[{\"marker\":{\"colorbar\":{\"outlinewidth\":1,\"tickcolor\":\"rgb(36,36,36)\",\"ticks\":\"outside\"}},\"type\":\"scattergl\"}],\"scattermapbox\":[{\"marker\":{\"colorbar\":{\"outlinewidth\":1,\"tickcolor\":\"rgb(36,36,36)\",\"ticks\":\"outside\"}},\"type\":\"scattermapbox\"}],\"scatterpolargl\":[{\"marker\":{\"colorbar\":{\"outlinewidth\":1,\"tickcolor\":\"rgb(36,36,36)\",\"ticks\":\"outside\"}},\"type\":\"scatterpolargl\"}],\"scatterpolar\":[{\"marker\":{\"colorbar\":{\"outlinewidth\":1,\"tickcolor\":\"rgb(36,36,36)\",\"ticks\":\"outside\"}},\"type\":\"scatterpolar\"}],\"scatter\":[{\"marker\":{\"colorbar\":{\"outlinewidth\":1,\"tickcolor\":\"rgb(36,36,36)\",\"ticks\":\"outside\"}},\"type\":\"scatter\"}],\"scatterternary\":[{\"marker\":{\"colorbar\":{\"outlinewidth\":1,\"tickcolor\":\"rgb(36,36,36)\",\"ticks\":\"outside\"}},\"type\":\"scatterternary\"}],\"surface\":[{\"colorbar\":{\"outlinewidth\":1,\"tickcolor\":\"rgb(36,36,36)\",\"ticks\":\"outside\"},\"colorscale\":[[0.0,\"#440154\"],[0.1111111111111111,\"#482878\"],[0.2222222222222222,\"#3e4989\"],[0.3333333333333333,\"#31688e\"],[0.4444444444444444,\"#26828e\"],[0.5555555555555556,\"#1f9e89\"],[0.6666666666666666,\"#35b779\"],[0.7777777777777778,\"#6ece58\"],[0.8888888888888888,\"#b5de2b\"],[1.0,\"#fde725\"]],\"type\":\"surface\"}],\"table\":[{\"cells\":{\"fill\":{\"color\":\"rgb(237,237,237)\"},\"line\":{\"color\":\"white\"}},\"header\":{\"fill\":{\"color\":\"rgb(217,217,217)\"},\"line\":{\"color\":\"white\"}},\"type\":\"table\"}]},\"layout\":{\"annotationdefaults\":{\"arrowhead\":0,\"arrowwidth\":1},\"autotypenumbers\":\"strict\",\"coloraxis\":{\"colorbar\":{\"outlinewidth\":1,\"tickcolor\":\"rgb(36,36,36)\",\"ticks\":\"outside\"}},\"colorscale\":{\"diverging\":[[0.0,\"rgb(103,0,31)\"],[0.1,\"rgb(178,24,43)\"],[0.2,\"rgb(214,96,77)\"],[0.3,\"rgb(244,165,130)\"],[0.4,\"rgb(253,219,199)\"],[0.5,\"rgb(247,247,247)\"],[0.6,\"rgb(209,229,240)\"],[0.7,\"rgb(146,197,222)\"],[0.8,\"rgb(67,147,195)\"],[0.9,\"rgb(33,102,172)\"],[1.0,\"rgb(5,48,97)\"]],\"sequential\":[[0.0,\"#440154\"],[0.1111111111111111,\"#482878\"],[0.2222222222222222,\"#3e4989\"],[0.3333333333333333,\"#31688e\"],[0.4444444444444444,\"#26828e\"],[0.5555555555555556,\"#1f9e89\"],[0.6666666666666666,\"#35b779\"],[0.7777777777777778,\"#6ece58\"],[0.8888888888888888,\"#b5de2b\"],[1.0,\"#fde725\"]],\"sequentialminus\":[[0.0,\"#440154\"],[0.1111111111111111,\"#482878\"],[0.2222222222222222,\"#3e4989\"],[0.3333333333333333,\"#31688e\"],[0.4444444444444444,\"#26828e\"],[0.5555555555555556,\"#1f9e89\"],[0.6666666666666666,\"#35b779\"],[0.7777777777777778,\"#6ece58\"],[0.8888888888888888,\"#b5de2b\"],[1.0,\"#fde725\"]]},\"colorway\":[\"#1F77B4\",\"#FF7F0E\",\"#2CA02C\",\"#D62728\",\"#9467BD\",\"#8C564B\",\"#E377C2\",\"#7F7F7F\",\"#BCBD22\",\"#17BECF\"],\"font\":{\"color\":\"rgb(36,36,36)\"},\"geo\":{\"bgcolor\":\"white\",\"lakecolor\":\"white\",\"landcolor\":\"white\",\"showlakes\":true,\"showland\":true,\"subunitcolor\":\"white\"},\"hoverlabel\":{\"align\":\"left\"},\"hovermode\":\"closest\",\"mapbox\":{\"style\":\"light\"},\"paper_bgcolor\":\"white\",\"plot_bgcolor\":\"white\",\"polar\":{\"angularaxis\":{\"gridcolor\":\"rgb(232,232,232)\",\"linecolor\":\"rgb(36,36,36)\",\"showgrid\":false,\"showline\":true,\"ticks\":\"outside\"},\"bgcolor\":\"white\",\"radialaxis\":{\"gridcolor\":\"rgb(232,232,232)\",\"linecolor\":\"rgb(36,36,36)\",\"showgrid\":false,\"showline\":true,\"ticks\":\"outside\"}},\"scene\":{\"xaxis\":{\"backgroundcolor\":\"white\",\"gridcolor\":\"rgb(232,232,232)\",\"gridwidth\":2,\"linecolor\":\"rgb(36,36,36)\",\"showbackground\":true,\"showgrid\":false,\"showline\":true,\"ticks\":\"outside\",\"zeroline\":false,\"zerolinecolor\":\"rgb(36,36,36)\"},\"yaxis\":{\"backgroundcolor\":\"white\",\"gridcolor\":\"rgb(232,232,232)\",\"gridwidth\":2,\"linecolor\":\"rgb(36,36,36)\",\"showbackground\":true,\"showgrid\":false,\"showline\":true,\"ticks\":\"outside\",\"zeroline\":false,\"zerolinecolor\":\"rgb(36,36,36)\"},\"zaxis\":{\"backgroundcolor\":\"white\",\"gridcolor\":\"rgb(232,232,232)\",\"gridwidth\":2,\"linecolor\":\"rgb(36,36,36)\",\"showbackground\":true,\"showgrid\":false,\"showline\":true,\"ticks\":\"outside\",\"zeroline\":false,\"zerolinecolor\":\"rgb(36,36,36)\"}},\"shapedefaults\":{\"fillcolor\":\"black\",\"line\":{\"width\":0},\"opacity\":0.3},\"ternary\":{\"aaxis\":{\"gridcolor\":\"rgb(232,232,232)\",\"linecolor\":\"rgb(36,36,36)\",\"showgrid\":false,\"showline\":true,\"ticks\":\"outside\"},\"baxis\":{\"gridcolor\":\"rgb(232,232,232)\",\"linecolor\":\"rgb(36,36,36)\",\"showgrid\":false,\"showline\":true,\"ticks\":\"outside\"},\"bgcolor\":\"white\",\"caxis\":{\"gridcolor\":\"rgb(232,232,232)\",\"linecolor\":\"rgb(36,36,36)\",\"showgrid\":false,\"showline\":true,\"ticks\":\"outside\"}},\"title\":{\"x\":0.05},\"xaxis\":{\"automargin\":true,\"gridcolor\":\"rgb(232,232,232)\",\"linecolor\":\"rgb(36,36,36)\",\"showgrid\":false,\"showline\":true,\"ticks\":\"outside\",\"title\":{\"standoff\":15},\"zeroline\":false,\"zerolinecolor\":\"rgb(36,36,36)\"},\"yaxis\":{\"automargin\":true,\"gridcolor\":\"rgb(232,232,232)\",\"linecolor\":\"rgb(36,36,36)\",\"showgrid\":false,\"showline\":true,\"ticks\":\"outside\",\"title\":{\"standoff\":15},\"zeroline\":false,\"zerolinecolor\":\"rgb(36,36,36)\"}}},\"xaxis\":{\"anchor\":\"y\",\"domain\":[0.0,0.7363],\"title\":{\"text\":\"Lit_rate\"}},\"yaxis\":{\"anchor\":\"x\",\"domain\":[0.0,0.7326],\"title\":{\"text\":\"RAPE\"}},\"xaxis2\":{\"anchor\":\"y2\",\"domain\":[0.7413,1.0],\"matches\":\"x2\",\"showticklabels\":false,\"showline\":false,\"ticks\":\"\"},\"yaxis2\":{\"anchor\":\"x2\",\"domain\":[0.0,0.7326],\"matches\":\"y\",\"showticklabels\":false},\"xaxis3\":{\"anchor\":\"y3\",\"domain\":[0.0,0.7363],\"matches\":\"x\",\"showticklabels\":false},\"yaxis3\":{\"anchor\":\"x3\",\"domain\":[0.7426,1.0],\"matches\":\"y3\",\"showticklabels\":false,\"showline\":false,\"ticks\":\"\"},\"xaxis4\":{\"anchor\":\"y4\",\"domain\":[0.7413,1.0],\"matches\":\"x2\",\"showticklabels\":false,\"showline\":false,\"ticks\":\"\"},\"yaxis4\":{\"anchor\":\"x4\",\"domain\":[0.7426,1.0],\"matches\":\"y3\",\"showticklabels\":false,\"showline\":false,\"ticks\":\"\"},\"legend\":{\"title\":{\"text\":\"State/UT\"},\"tracegroupgap\":0},\"margin\":{\"t\":60}},                        {\"responsive\": true}                    ).then(function(){\n",
       "                            \n",
       "var gd = document.getElementById('140bf87d-bb1b-4e0d-be63-af5130ffecb4');\n",
       "var x = new MutationObserver(function (mutations, observer) {{\n",
       "        var display = window.getComputedStyle(gd).display;\n",
       "        if (!display || display === 'none') {{\n",
       "            console.log([gd, 'removed!']);\n",
       "            Plotly.purge(gd);\n",
       "            observer.disconnect();\n",
       "        }}\n",
       "}});\n",
       "\n",
       "// Listen for the removal of the full notebook cells\n",
       "var notebookContainer = gd.closest('#notebook-container');\n",
       "if (notebookContainer) {{\n",
       "    x.observe(notebookContainer, {childList: true});\n",
       "}}\n",
       "\n",
       "// Listen for the clearing of the current output cell\n",
       "var outputEl = gd.closest('.output');\n",
       "if (outputEl) {{\n",
       "    x.observe(outputEl, {childList: true});\n",
       "}}\n",
       "\n",
       "                        })                };                });            </script>        </div>"
      ]
     },
     "metadata": {},
     "output_type": "display_data"
    }
   ],
   "source": [
    "fig = px.scatter(df, x=\"Lit_rate\", y=\"RAPE\", color=\"State/UT\", marginal_y=\"violin\",\n",
    "           marginal_x=\"box\",  template=\"simple_white\")\n",
    "fig.show()"
   ]
  },
  {
   "cell_type": "markdown",
   "id": "779a9a9e",
   "metadata": {},
   "source": [
    "__we got few null values in  columns__\n",
    "\n",
    "- total crime against women\n",
    "- Total crimes against STs\n",
    "- Total crime against children\n",
    "\n",
    "__our dataset__\n",
    "\n",
    "#### Filling Null Values using mean methods"
   ]
  },
  {
   "cell_type": "code",
   "execution_count": 6,
   "id": "59295a63",
   "metadata": {},
   "outputs": [
    {
     "data": {
      "text/plain": [
       "count     387.000000\n",
       "mean      185.077519\n",
       "std       393.275773\n",
       "min         0.000000\n",
       "25%         0.000000\n",
       "50%         6.000000\n",
       "75%       209.500000\n",
       "max      2894.000000\n",
       "Name: Total crimes against STs, dtype: float64"
      ]
     },
     "execution_count": 6,
     "metadata": {},
     "output_type": "execute_result"
    }
   ],
   "source": [
    "df['Total crimes against STs'].describe()"
   ]
  },
  {
   "cell_type": "code",
   "execution_count": 7,
   "id": "d649ac35",
   "metadata": {},
   "outputs": [],
   "source": [
    "df['Total crimes against STs']=df['Total crimes against STs'].fillna(df['Total crimes against STs'].mean())"
   ]
  },
  {
   "cell_type": "code",
   "execution_count": 8,
   "id": "08d1f3e0",
   "metadata": {},
   "outputs": [
    {
     "data": {
      "text/plain": [
       "count     418.000000\n",
       "mean      587.267943\n",
       "std      1036.458881\n",
       "min         0.000000\n",
       "25%        26.000000\n",
       "50%       103.000000\n",
       "75%       632.250000\n",
       "max      6033.000000\n",
       "Name: Total crime against children, dtype: float64"
      ]
     },
     "execution_count": 8,
     "metadata": {},
     "output_type": "execute_result"
    }
   ],
   "source": [
    "df['Total crime against children'].describe()"
   ]
  },
  {
   "cell_type": "code",
   "execution_count": 9,
   "id": "e926a3e9",
   "metadata": {},
   "outputs": [],
   "source": [
    "df['Total crime against children']=df['Total crime against children'].fillna(df['Total crime against children'].mean())"
   ]
  },
  {
   "cell_type": "code",
   "execution_count": 10,
   "id": "5bb63b0a",
   "metadata": {},
   "outputs": [],
   "source": [
    "df['total crime against women']=df['total crime against women'].fillna(df['total crime against women'].mean())"
   ]
  },
  {
   "cell_type": "markdown",
   "id": "39155aa6",
   "metadata": {},
   "source": [
    "__Again Checking for null values."
   ]
  },
  {
   "cell_type": "code",
   "execution_count": 11,
   "id": "2b6aa1a0",
   "metadata": {},
   "outputs": [
    {
     "data": {
      "text/plain": [
       "State/UT                                               0\n",
       "Year                                                   0\n",
       "population(total)                                      0\n",
       "Rural                                                  0\n",
       "Urban                                                  0\n",
       "Tot_M                                                  0\n",
       "Tot_F                                                  0\n",
       "P_LIT                                                  0\n",
       "M_LIT                                                  0\n",
       "F_LIT                                                  0\n",
       "Lit_rate                                               0\n",
       "Area (km2)                                             0\n",
       "Rural.1                                                0\n",
       "Urban.1                                                0\n",
       "MURDER                                                 0\n",
       "ATTEMPT TO MURDER                                      0\n",
       "CULPABLE HOMICIDE NOT AMOUNTING TO MURDER              0\n",
       "RAPE                                                   0\n",
       "CUSTODIAL RAPE                                         0\n",
       "OTHER RAPE                                             0\n",
       "KIDNAPPING & ABDUCTION                                 0\n",
       "KIDNAPPING AND ABDUCTION OF WOMEN AND GIRLS            0\n",
       "KIDNAPPING AND ABDUCTION OF OTHERS                     0\n",
       "DACOITY                                                0\n",
       "PREPARATION AND ASSEMBLY FOR DACOITY                   0\n",
       "ROBBERY                                                0\n",
       "BURGLARY                                               0\n",
       "THEFT                                                  0\n",
       "AUTO THEFT                                             0\n",
       "OTHER THEFT                                            0\n",
       "RIOTS                                                  0\n",
       "CRIMINAL BREACH OF TRUST                               0\n",
       "CHEATING                                               0\n",
       "COUNTERFIETING                                         0\n",
       "ARSON                                                  0\n",
       "HURT/GREVIOUS HURT                                     0\n",
       "DOWRY DEATHS                                           0\n",
       "ASSAULT ON WOMEN WITH INTENT TO OUTRAGE HER MODESTY    0\n",
       "INSULT TO MODESTY OF WOMEN                             0\n",
       "CRUELTY BY HUSBAND OR HIS RELATIVES                    0\n",
       "IMPORTATION OF GIRLS FROM FOREIGN COUNTRIES            0\n",
       "CAUSING DEATH BY NEGLIGENCE                            0\n",
       "OTHER IPC CRIMES                                       0\n",
       "TOTAL IPC CRIMES                                       0\n",
       "Total Crimes                                           0\n",
       "tot_crimes_sc                                          0\n",
       "total crime against women                              0\n",
       "Total crimes against STs                               0\n",
       "Total crime against children                           0\n",
       "dtype: int64"
      ]
     },
     "execution_count": 11,
     "metadata": {},
     "output_type": "execute_result"
    }
   ],
   "source": [
    "df.isnull().sum()"
   ]
  },
  {
   "cell_type": "code",
   "execution_count": 12,
   "id": "18f4630b",
   "metadata": {},
   "outputs": [
    {
     "data": {
      "text/plain": [
       "array(['A& N ISLANDS', 'ANDHRA PRADESH', 'ARUNACHAL PRADESH', 'ASSAM',\n",
       "       'BIHAR', 'CHANDIGARH', 'CHHATTISGARH', 'D & N HAVELI',\n",
       "       'DAMAN & DIU', 'DELHI', 'GOA', 'GUJARAT', 'HARYANA',\n",
       "       'HIMACHAL PRADESH', 'JAMMU & KASHMIR', 'JHARKHAND', 'KARNATAKA',\n",
       "       'KERALA', 'LAKSHADWEEP', 'MADHYA PRADESH', 'MAHARASHTRA',\n",
       "       'MANIPUR', 'MEGHALAYA', 'MIZORAM', 'NAGALAND', 'ODISHA',\n",
       "       'PUDUCHERRY', 'PUNJAB', 'RAJASTHAN', 'SIKKIM', 'TAMIL NADU',\n",
       "       'TRIPURA', 'UTTAR PRADESH', 'UTTARAKHAND', 'WEST BENGAL'],\n",
       "      dtype=object)"
      ]
     },
     "execution_count": 12,
     "metadata": {},
     "output_type": "execute_result"
    }
   ],
   "source": [
    "(df['State/UT'].unique())"
   ]
  },
  {
   "cell_type": "code",
   "execution_count": 13,
   "id": "3b8e3777",
   "metadata": {},
   "outputs": [
    {
     "data": {
      "text/plain": [
       "35"
      ]
     },
     "execution_count": 13,
     "metadata": {},
     "output_type": "execute_result"
    }
   ],
   "source": [
    "len(df['State/UT'].unique())"
   ]
  },
  {
   "cell_type": "markdown",
   "id": "2866aba2",
   "metadata": {},
   "source": [
    "The data has total 35 states and union territories(from 2001 to 2012), but there are 36 as of 2023 (Telangana state is missing in the dataset)"
   ]
  },
  {
   "cell_type": "code",
   "execution_count": null,
   "id": "05540d36",
   "metadata": {},
   "outputs": [],
   "source": []
  }
 ],
 "metadata": {
  "kernelspec": {
   "display_name": "Python 3 (ipykernel)",
   "language": "python",
   "name": "python3"
  },
  "language_info": {
   "codemirror_mode": {
    "name": "ipython",
    "version": 3
   },
   "file_extension": ".py",
   "mimetype": "text/x-python",
   "name": "python",
   "nbconvert_exporter": "python",
   "pygments_lexer": "ipython3",
   "version": "3.9.12"
  }
 },
 "nbformat": 4,
 "nbformat_minor": 5
}
